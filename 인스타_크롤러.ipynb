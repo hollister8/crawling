{
 "cells": [
  {
   "cell_type": "code",
   "execution_count": 1,
   "metadata": {},
   "outputs": [],
   "source": [
    "import pandas as pd\n",
    "import numpy as np"
   ]
  },
  {
   "cell_type": "code",
   "execution_count": 2,
   "metadata": {},
   "outputs": [],
   "source": [
    "# 라이브러리 import\n",
    "# 라이브러리 : 필요한 도구\n",
    "from selenium import webdriver  # 라이브러리(모듈) 가져오라\n",
    "from selenium.webdriver import ActionChains as AC\n",
    "from tqdm import tqdm\n",
    "from tqdm import tqdm_notebook\n",
    "import re    # regular expression (정규표현식) - 해시태그(#) 제거\n",
    "from time import sleep\n",
    "import time"
   ]
  },
  {
   "cell_type": "code",
   "execution_count": 3,
   "metadata": {},
   "outputs": [
    {
     "data": {
      "text/plain": [
       "'원피스'"
      ]
     },
     "execution_count": 3,
     "metadata": {},
     "output_type": "execute_result"
    }
   ],
   "source": [
    "# 데이터 수집할 키워드 지정\n",
    "keyword = \"원피스\"\n",
    "keyword"
   ]
  },
  {
   "cell_type": "markdown",
   "metadata": {},
   "source": [
    "## 크롤링 시작!"
   ]
  },
  {
   "cell_type": "code",
   "execution_count": 4,
   "metadata": {},
   "outputs": [],
   "source": [
    "# 크롬창 띄우기\n",
    "driver = webdriver.Chrome(\"chromedriver.exe\")  # 윈도우 : \"chromedriver.exe\"\n",
    "driver.get(\"https://www.instagram.com/\")\n",
    "time.sleep(3)"
   ]
  },
  {
   "cell_type": "raw",
   "metadata": {},
   "source": [
    "수동 로그인\n",
    "설정 나중에 하기"
   ]
  },
  {
   "cell_type": "code",
   "execution_count": 5,
   "metadata": {},
   "outputs": [
    {
     "data": {
      "text/plain": [
       "'C:\\\\Users\\\\12\\\\Desktop\\\\python'"
      ]
     },
     "execution_count": 5,
     "metadata": {},
     "output_type": "execute_result"
    }
   ],
   "source": [
    "pwd"
   ]
  },
  {
   "cell_type": "code",
   "execution_count": 6,
   "metadata": {
    "scrolled": false
   },
   "outputs": [
    {
     "name": "stderr",
     "output_type": "stream",
     "text": [
      "<ipython-input-6-2dc596a275d7>:27: TqdmDeprecationWarning: This function will be removed in tqdm==5.0.0\n",
      "Please use `tqdm.notebook.tqdm` instead of `tqdm.tqdm_notebook`\n",
      "  for i in tqdm_notebook(range(0, len_insta)):    # range : 숫자가 1씩하는 함수\n"
     ]
    },
    {
     "data": {
      "application/vnd.jupyter.widget-view+json": {
       "model_id": "7aebee956ae94094aac84cf012db2662",
       "version_major": 2,
       "version_minor": 0
      },
      "text/plain": [
       "HBox(children=(HTML(value=''), FloatProgress(value=0.0, max=10.0), HTML(value='')))"
      ]
     },
     "metadata": {},
     "output_type": "display_data"
    },
    {
     "name": "stdout",
     "output_type": "stream",
     "text": [
      "0  리이 마조네 코타 피엔에이바이폴앤앨리스 모노크롬 wconcept W컨셉 팝업세일 원피스 블라우스 여름코디\n",
      "1 \n",
      "2  daily dailylook ootd selca 셀카 셀피 일상 데일리 데일리룩 데이트 울산카페 서울 부산 해운대맛집 창원 해운대 전포동 서면카페 광안리 센텀맛집 좋아요 소통 맞팔 스토어팜 일상룩 지그재그 드하우 원피스\n",
      "3  98도씨메이드 2021ss 원피스\n",
      "4  크리미민트 2021ss 원피스 린넨자켓\n",
      "5  98도씨메이드 기장세분화 2021ss 원피스\n",
      "6 \n",
      "7 \n",
      "8 \n",
      "9  깔롱 가오리박스원피스 블랙 면 사이즈 깔롱 빅사이즈박스원피스 가오리핏원피스 사이즈무한대 편한원피스 홈웨어 임부복추천 데일리원피스 체형커버원피스 임산부원피스 빅사이즈여성의류 빅사이즈쇼핑몰 워킹맘 우아한원피스 디라인원피스 면소재원피스 빅사이즈맛집 등원룩 원피스 맘룩 데일리룩 좋아요 신상템\n",
      "\n",
      "{0: {'picture': 'https://scontent-ssn1-1.cdninstagram.com/v/t51.2885-15/e35/p1080x1080/182527734_620320902184447_5980379317136932653_n.jpg?tp=1&_nc_ht=scontent-ssn1-1.cdninstagram.com&_nc_cat=107&_nc_ohc=iGfzD6JhoNYAX954sey&edm=AP_V10EBAAAA&ccb=7-4&oh=a82146a3515e1b6ffd5763a3ffe2d960&oe=60BCA1A8&_nc_sid=4f375e', 'date': '2021년 5월 7일', 'like': '좋아요 931개', 'tag': ' 리이 마조네 코타 피엔에이바이폴앤앨리스 모노크롬 wconcept W컨셉 팝업세일 원피스 블라우스 여름코디'}, 1: {'picture': 'https://scontent-ssn1-1.cdninstagram.com/v/t51.2885-15/e35/p1080x1080/150180398_450221629407891_8536894227726864858_n.jpg?tp=1&_nc_ht=scontent-ssn1-1.cdninstagram.com&_nc_cat=103&_nc_ohc=uQ6kYpkrF-4AX_etqbN&edm=AP_V10EBAAAA&ccb=7-4&oh=7dc39727367d619e863f882df7eb808d&oe=60BE4CCF&_nc_sid=4f375e', 'date': '2021년 5월 8일', 'like': '좋아요 2,585개', 'tag': ''}, 2: {'picture': 'https://scontent-ssn1-1.cdninstagram.com/v/t51.2885-15/e35/p1080x1080/183447095_323925325772915_1380157788359875443_n.jpg?tp=1&_nc_ht=scontent-ssn1-1.cdninstagram.com&_nc_cat=111&_nc_ohc=dyfJz8Pg80oAX9fF-L6&edm=AP_V10EBAAAA&ccb=7-4&oh=7d296fef41b1c762f291e4d3acf9ec6b&oe=60BE92CE&_nc_sid=4f375e', 'date': '2021년 5월 9일', 'like': '좋아요 1,060개', 'tag': ' daily dailylook ootd selca 셀카 셀피 일상 데일리 데일리룩 데이트 울산카페 서울 부산 해운대맛집 창원 해운대 전포동 서면카페 광안리 센텀맛집 좋아요 소통 맞팔 스토어팜 일상룩 지그재그 드하우 원피스'}, 3: {'picture': 'https://scontent-ssn1-1.cdninstagram.com/v/t51.2885-15/e35/p1080x1080/184002199_100615815519825_7678379112724825533_n.jpg?tp=1&_nc_ht=scontent-ssn1-1.cdninstagram.com&_nc_cat=109&_nc_ohc=HYJcrMrAn4oAX_kfs8I&edm=AP_V10EBAAAA&ccb=7-4&oh=a1172823cc51189d1542e40949e647bb&oe=60BEADF6&_nc_sid=4f375e', 'date': '2021년 5월 9일', 'like': '좋아요 1,447개', 'tag': ' 98도씨메이드 2021ss 원피스'}, 4: {'picture': 'https://scontent-ssn1-1.cdninstagram.com/v/t51.2885-15/e35/p1080x1080/183185868_457746105322108_1371225466070032377_n.jpg?tp=1&_nc_ht=scontent-ssn1-1.cdninstagram.com&_nc_cat=104&_nc_ohc=BA7iS3nSjycAX9MCQnc&edm=AP_V10EBAAAA&ccb=7-4&oh=68034ebd3deae2f71c8c187cf6d05d34&oe=60BCE0F9&_nc_sid=4f375e', 'date': '2021년 5월 8일', 'like': '좋아요 1,394개', 'tag': ' 크리미민트 2021ss 원피스 린넨자켓'}, 5: {'picture': 'https://scontent-ssn1-1.cdninstagram.com/v/t51.2885-15/e35/p1080x1080/184037097_128481635982661_2609077654684988351_n.jpg?tp=1&_nc_ht=scontent-ssn1-1.cdninstagram.com&_nc_cat=101&_nc_ohc=CERBApob4usAX_NE5d9&edm=AP_V10EBAAAA&ccb=7-4&oh=7e0486824b4115820115058a4be9a853&oe=60BE6D7D&_nc_sid=4f375e', 'date': '2021년 5월 8일', 'like': '좋아요 1,913개', 'tag': ' 98도씨메이드 기장세분화 2021ss 원피스'}, 6: {'picture': 'https://scontent-ssn1-1.cdninstagram.com/v/t51.2885-15/e35/p1080x1080/183534301_805909286709453_1154063499741610103_n.jpg?tp=1&_nc_ht=scontent-ssn1-1.cdninstagram.com&_nc_cat=109&_nc_ohc=OsiWyRLQJYkAX99B5yd&edm=AP_V10EBAAAA&ccb=7-4&oh=1f319236c897b31a81f829fd0b4405fd&oe=60BF89F4&_nc_sid=4f375e', 'date': '2021년 5월 9일', 'like': '좋아요 705개', 'tag': ''}, 7: {'picture': 'https://scontent-ssn1-1.cdninstagram.com/v/t51.2885-15/e35/s1080x1080/183768603_1082389762249554_2997878895136176818_n.jpg?tp=1&_nc_ht=scontent-ssn1-1.cdninstagram.com&_nc_cat=106&_nc_ohc=YOCFQIcSYwMAX8XgGn5&edm=AP_V10EBAAAA&ccb=7-4&oh=0d516b8a70da6d731d719a73b8b70c59&oe=60BE5C44&_nc_sid=4f375e', 'date': '2021년 5월 9일', 'like': '좋아요 299개', 'tag': ''}, 8: {'picture': 'https://scontent-ssn1-1.cdninstagram.com/v/t51.2885-15/e35/s1080x1080/183219313_2867224936924117_7042758369856019171_n.jpg?tp=1&_nc_ht=scontent-ssn1-1.cdninstagram.com&_nc_cat=101&_nc_ohc=LPkqDgA-GxsAX8L_26x&edm=AP_V10EBAAAA&ccb=7-4&oh=e106557ba8885b8910794fd928536672&oe=60BD3F53&_nc_sid=4f375e', 'date': '2021년 5월 10일', 'like': '좋아요 2개', 'tag': ''}, 9: {'picture': 'https://scontent-ssn1-1.cdninstagram.com/v/t51.2885-15/e35/183343944_798863391059336_7210397117659357091_n.jpg?tp=1&_nc_ht=scontent-ssn1-1.cdninstagram.com&_nc_cat=108&_nc_ohc=pF2aQJHpipMAX80PWOC&edm=AP_V10EBAAAA&ccb=7-4&oh=08ec4db200379bcfe097e2f3b594245b&oe=60BD58E1&_nc_sid=4f375e', 'date': '2021년 5월 10일', 'like': '가장 먼저 \\n좋아요\\n를 눌러보세요', 'tag': ' 깔롱 가오리박스원피스 블랙 면 사이즈 깔롱 빅사이즈박스원피스 가오리핏원피스 사이즈무한대 편한원피스 홈웨어 임부복추천 데일리원피스 체형커버원피스 임산부원피스 빅사이즈여성의류 빅사이즈쇼핑몰 워킹맘 우아한원피스 디라인원피스 면소재원피스 빅사이즈맛집 등원룩 원피스 맘룩 데일리룩 좋아요 신상템'}}\n"
     ]
    }
   ],
   "source": [
    "dict = {}   # 전체 데이터를 담을 딕셔너리 생성\n",
    "\n",
    "# 검색창에 커서 클릭\n",
    "element = driver.find_element_by_css_selector(\".pbgfb.Di7vw\")\n",
    "element.click()\n",
    "time.sleep(1)\n",
    "\n",
    "# 검색 창에 검색어 입력\n",
    "element = driver.find_element_by_css_selector(\".XTCLo.x3qfX\")\n",
    "element.send_keys(keyword)\n",
    "time.sleep(3)\n",
    "\n",
    "# 검색어 리스트 중 첫번째 검색어 클릭\n",
    "query_list = driver.find_elements_by_css_selector(\".-qQT3\")\n",
    "query_list[0].click()\n",
    "time.sleep(7)\n",
    "\n",
    "# 사진 클릭\n",
    "CSS_tran=\"div.Nnq7C.weEfm\"                                      # 사진 버튼 정의 \n",
    "tran_button = driver.find_element_by_css_selector(CSS_tran)     # 사진 버튼 찾기\n",
    "AC(driver).move_to_element(tran_button).click().perform()       # 사진 버튼 클릭\n",
    "time.sleep(1)\n",
    "\n",
    "# 크롤링 시작\n",
    "len_insta = 10   # 몇 개 글을 크롤링 할건지\n",
    "\n",
    "for i in tqdm_notebook(range(0, len_insta)):    # range : 숫자가 1씩하는 함수\n",
    "\n",
    "    target_info = {}                                            # 사진별 데이터를 담을 딕셔너리 생성\n",
    "\n",
    "    try:    # 크롤링을 시도해라.\n",
    "        # 사진(pic) 크롤링 시작\n",
    "        overlays1 = \"div._2dDPU.CkGkG .FFVAD\"                   # 사진창 속 사진   \n",
    "        img = driver.find_element_by_css_selector(overlays1)    # 사진 선택\n",
    "        pic = img.get_attribute('src')                          # 사진 url 크롤링 완료\n",
    "        target_info['picture'] = pic\n",
    "        # print(target_info)\n",
    "\n",
    "        # 날짜(date) 크롤링 시작\n",
    "        overlays2 = \"div._2dDPU.CkGkG .c-Yi7 > time\"                  # 날짜 지정\n",
    "        datum2 = driver.find_element_by_css_selector(overlays2)     # 날짜 선택\n",
    "        date = datum2.get_attribute('title')\n",
    "#         get_attribute('title')                                    # 날짜 크롤링 완료\n",
    "        target_info['date'] = date\n",
    "        # print(target_info)\n",
    "        # print(datalist)\n",
    "\n",
    "        # 좋아요(like) 크롤링 시작\n",
    "        overlays3 = \".Nm9Fw\"                                        # 리뷰창 속 날짜\n",
    "        datum3 = driver.find_element_by_css_selector(overlays3)     # 리뷰 선택\n",
    "        like = datum3.text                                          # 좋아요 크롤링 완료\n",
    "        target_info['like'] = like\n",
    "        # print(target_info)\n",
    "\n",
    "        # 해시태그(tag) 크롤링 시작\n",
    "        overlays4 = \".C7I1f.X7jCj\"                                  # 태그 지정\n",
    "        datum3 = driver.find_element_by_css_selector(overlays4)     # 태그 선택\n",
    "        tag_raw = datum3.text\n",
    "        tags = re.findall('#[A-Za-z0-9가-힣]+', tag_raw)            # \"\"#OOO\"만 뽑아오기(OOO: 한글,숫자,영어,_)\n",
    "        tag = ''.join(tags).replace(\"#\",\" \")                        # \"#\" 제거\n",
    "        target_info['tag'] = tag\n",
    "        # print(target_info)\n",
    "\n",
    "        dict[i] = target_info            # 토탈 딕셔너리로 만들기\n",
    "\n",
    "        print(\"{0}\".format(i), tag)\n",
    "\n",
    "        # 다음장 클릭\n",
    "        CSS_tran2=\"a._65Bje.coreSpriteRightPaginationArrow\"             # 다음 버튼 정의\n",
    "        tran_button2 = driver.find_element_by_css_selector(CSS_tran2)  # 다음 버튼 find\n",
    "        AC(driver).move_to_element(tran_button2).click().perform()     # 다음 버튼 클릭\n",
    "        time.sleep(2)\n",
    "\n",
    "    except:  # 에러가 나면 다음장을 클릭해라\n",
    "        # 다음장 클릭\n",
    "        CSS_tran2=\"a._65Bje.coreSpriteRightPaginationArrow\"             # 다음 버튼 정의\n",
    "        tran_button2 = driver.find_element_by_css_selector(CSS_tran2)  # 다음 버튼 find\n",
    "        AC(driver).move_to_element(tran_button2).click().perform()     # 다음 버튼 클릭\n",
    "        time.sleep(2)\n",
    "\n",
    "print(dict)\n",
    "\n",
    "# 판다스로 만들기 : 엑셀(테이블) 형식으로 만들기\n",
    "import pandas as pd\n",
    "result_df = pd.DataFrame.from_dict(dict, 'index')\n",
    "\n",
    "n = result_df['picture'].count()\n",
    "\n",
    "# csv 형식(엑셀이랑 비슷한 파일)으로 저장\n",
    "result_df.to_csv(\"insta({}).csv\".format(keyword), encoding='euc-kr')"
   ]
  },
  {
   "cell_type": "code",
   "execution_count": 7,
   "metadata": {},
   "outputs": [
    {
     "data": {
      "text/html": [
       "<div>\n",
       "<style scoped>\n",
       "    .dataframe tbody tr th:only-of-type {\n",
       "        vertical-align: middle;\n",
       "    }\n",
       "\n",
       "    .dataframe tbody tr th {\n",
       "        vertical-align: top;\n",
       "    }\n",
       "\n",
       "    .dataframe thead th {\n",
       "        text-align: right;\n",
       "    }\n",
       "</style>\n",
       "<table border=\"1\" class=\"dataframe\">\n",
       "  <thead>\n",
       "    <tr style=\"text-align: right;\">\n",
       "      <th></th>\n",
       "      <th>picture</th>\n",
       "      <th>date</th>\n",
       "      <th>like</th>\n",
       "      <th>tag</th>\n",
       "    </tr>\n",
       "  </thead>\n",
       "  <tbody>\n",
       "    <tr>\n",
       "      <th>0</th>\n",
       "      <td>https://scontent-ssn1-1.cdninstagram.com/v/t51...</td>\n",
       "      <td>2021년 5월 7일</td>\n",
       "      <td>좋아요 931개</td>\n",
       "      <td>리이 마조네 코타 피엔에이바이폴앤앨리스 모노크롬 wconcept W컨셉 팝업세일 ...</td>\n",
       "    </tr>\n",
       "    <tr>\n",
       "      <th>1</th>\n",
       "      <td>https://scontent-ssn1-1.cdninstagram.com/v/t51...</td>\n",
       "      <td>2021년 5월 8일</td>\n",
       "      <td>좋아요 2,585개</td>\n",
       "      <td></td>\n",
       "    </tr>\n",
       "    <tr>\n",
       "      <th>2</th>\n",
       "      <td>https://scontent-ssn1-1.cdninstagram.com/v/t51...</td>\n",
       "      <td>2021년 5월 9일</td>\n",
       "      <td>좋아요 1,060개</td>\n",
       "      <td>daily dailylook ootd selca 셀카 셀피 일상 데일리 데일리룩 ...</td>\n",
       "    </tr>\n",
       "    <tr>\n",
       "      <th>3</th>\n",
       "      <td>https://scontent-ssn1-1.cdninstagram.com/v/t51...</td>\n",
       "      <td>2021년 5월 9일</td>\n",
       "      <td>좋아요 1,447개</td>\n",
       "      <td>98도씨메이드 2021ss 원피스</td>\n",
       "    </tr>\n",
       "    <tr>\n",
       "      <th>4</th>\n",
       "      <td>https://scontent-ssn1-1.cdninstagram.com/v/t51...</td>\n",
       "      <td>2021년 5월 8일</td>\n",
       "      <td>좋아요 1,394개</td>\n",
       "      <td>크리미민트 2021ss 원피스 린넨자켓</td>\n",
       "    </tr>\n",
       "    <tr>\n",
       "      <th>5</th>\n",
       "      <td>https://scontent-ssn1-1.cdninstagram.com/v/t51...</td>\n",
       "      <td>2021년 5월 8일</td>\n",
       "      <td>좋아요 1,913개</td>\n",
       "      <td>98도씨메이드 기장세분화 2021ss 원피스</td>\n",
       "    </tr>\n",
       "    <tr>\n",
       "      <th>6</th>\n",
       "      <td>https://scontent-ssn1-1.cdninstagram.com/v/t51...</td>\n",
       "      <td>2021년 5월 9일</td>\n",
       "      <td>좋아요 705개</td>\n",
       "      <td></td>\n",
       "    </tr>\n",
       "    <tr>\n",
       "      <th>7</th>\n",
       "      <td>https://scontent-ssn1-1.cdninstagram.com/v/t51...</td>\n",
       "      <td>2021년 5월 9일</td>\n",
       "      <td>좋아요 299개</td>\n",
       "      <td></td>\n",
       "    </tr>\n",
       "    <tr>\n",
       "      <th>8</th>\n",
       "      <td>https://scontent-ssn1-1.cdninstagram.com/v/t51...</td>\n",
       "      <td>2021년 5월 10일</td>\n",
       "      <td>좋아요 2개</td>\n",
       "      <td></td>\n",
       "    </tr>\n",
       "    <tr>\n",
       "      <th>9</th>\n",
       "      <td>https://scontent-ssn1-1.cdninstagram.com/v/t51...</td>\n",
       "      <td>2021년 5월 10일</td>\n",
       "      <td>가장 먼저 \\n좋아요\\n를 눌러보세요</td>\n",
       "      <td>깔롱 가오리박스원피스 블랙 면 사이즈 깔롱 빅사이즈박스원피스 가오리핏원피스 사이즈...</td>\n",
       "    </tr>\n",
       "  </tbody>\n",
       "</table>\n",
       "</div>"
      ],
      "text/plain": [
       "                                             picture          date  \\\n",
       "0  https://scontent-ssn1-1.cdninstagram.com/v/t51...   2021년 5월 7일   \n",
       "1  https://scontent-ssn1-1.cdninstagram.com/v/t51...   2021년 5월 8일   \n",
       "2  https://scontent-ssn1-1.cdninstagram.com/v/t51...   2021년 5월 9일   \n",
       "3  https://scontent-ssn1-1.cdninstagram.com/v/t51...   2021년 5월 9일   \n",
       "4  https://scontent-ssn1-1.cdninstagram.com/v/t51...   2021년 5월 8일   \n",
       "5  https://scontent-ssn1-1.cdninstagram.com/v/t51...   2021년 5월 8일   \n",
       "6  https://scontent-ssn1-1.cdninstagram.com/v/t51...   2021년 5월 9일   \n",
       "7  https://scontent-ssn1-1.cdninstagram.com/v/t51...   2021년 5월 9일   \n",
       "8  https://scontent-ssn1-1.cdninstagram.com/v/t51...  2021년 5월 10일   \n",
       "9  https://scontent-ssn1-1.cdninstagram.com/v/t51...  2021년 5월 10일   \n",
       "\n",
       "                   like                                                tag  \n",
       "0              좋아요 931개   리이 마조네 코타 피엔에이바이폴앤앨리스 모노크롬 wconcept W컨셉 팝업세일 ...  \n",
       "1            좋아요 2,585개                                                     \n",
       "2            좋아요 1,060개   daily dailylook ootd selca 셀카 셀피 일상 데일리 데일리룩 ...  \n",
       "3            좋아요 1,447개                                 98도씨메이드 2021ss 원피스  \n",
       "4            좋아요 1,394개                              크리미민트 2021ss 원피스 린넨자켓  \n",
       "5            좋아요 1,913개                           98도씨메이드 기장세분화 2021ss 원피스  \n",
       "6              좋아요 705개                                                     \n",
       "7              좋아요 299개                                                     \n",
       "8                좋아요 2개                                                     \n",
       "9  가장 먼저 \\n좋아요\\n를 눌러보세요   깔롱 가오리박스원피스 블랙 면 사이즈 깔롱 빅사이즈박스원피스 가오리핏원피스 사이즈...  "
      ]
     },
     "execution_count": 7,
     "metadata": {},
     "output_type": "execute_result"
    }
   ],
   "source": [
    "result_df"
   ]
  },
  {
   "cell_type": "code",
   "execution_count": 8,
   "metadata": {},
   "outputs": [
    {
     "data": {
      "text/plain": [
       "10"
      ]
     },
     "execution_count": 8,
     "metadata": {},
     "output_type": "execute_result"
    }
   ],
   "source": [
    "num_pic = len(result_df['picture'])\n",
    "num_pic"
   ]
  },
  {
   "cell_type": "code",
   "execution_count": 9,
   "metadata": {},
   "outputs": [
    {
     "data": {
      "text/plain": [
       "'C:\\\\Users\\\\12\\\\Desktop\\\\python'"
      ]
     },
     "execution_count": 9,
     "metadata": {},
     "output_type": "execute_result"
    }
   ],
   "source": [
    "pwd"
   ]
  },
  {
   "cell_type": "code",
   "execution_count": 10,
   "metadata": {},
   "outputs": [],
   "source": [
    "# 이미지들 image_insta 폴더에 다운받기\n",
    "import os\n",
    "import urllib.request\n",
    "\n",
    "# 만약 폴더가 없으면 만들어라\n",
    "if not os.path.exists(\"image_insta\"):\n",
    "    os.makedirs(\"image_insta\")\n",
    "        \n",
    "for i in range(0, 50):\n",
    "    \n",
    "    try:\n",
    "        index = result_df['picture'][i]\n",
    "        date = result_df['date'][i]\n",
    "        urllib.request.urlretrieve(index, \"image_insta/{0}_{1}.jpg\".format(date, i))        \n",
    "    except:\n",
    "        pass"
   ]
  }
 ],
 "metadata": {
  "kernelspec": {
   "display_name": "Python 3",
   "language": "python",
   "name": "python3"
  },
  "language_info": {
   "codemirror_mode": {
    "name": "ipython",
    "version": 3
   },
   "file_extension": ".py",
   "mimetype": "text/x-python",
   "name": "python",
   "nbconvert_exporter": "python",
   "pygments_lexer": "ipython3",
   "version": "3.8.5"
  },
  "varInspector": {
   "cols": {
    "lenName": 16,
    "lenType": 16,
    "lenVar": 40
   },
   "kernels_config": {
    "python": {
     "delete_cmd_postfix": "",
     "delete_cmd_prefix": "del ",
     "library": "var_list.py",
     "varRefreshCmd": "print(var_dic_list())"
    },
    "r": {
     "delete_cmd_postfix": ") ",
     "delete_cmd_prefix": "rm(",
     "library": "var_list.r",
     "varRefreshCmd": "cat(var_dic_list()) "
    }
   },
   "types_to_exclude": [
    "module",
    "function",
    "builtin_function_or_method",
    "instance",
    "_Feature"
   ],
   "window_display": false
  }
 },
 "nbformat": 4,
 "nbformat_minor": 2
}
