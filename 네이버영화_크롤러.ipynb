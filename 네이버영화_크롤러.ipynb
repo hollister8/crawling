{
 "cells": [
  {
   "cell_type": "code",
   "execution_count": 3,
   "metadata": {},
   "outputs": [],
   "source": [
    "#Step 0. 필요한 모듈과 라이브러리를 로딩합니다.\n",
    "import sys # 시스템\n",
    "import os  # 시스템\n",
    "\n",
    "import pandas as pd  # 판다스 : 데이터분석 라이브러리\n",
    "import numpy as np   # 넘파이 : 숫자, 행렬 데이터 라이브러리\n",
    "\n",
    "from bs4 import BeautifulSoup    # html 데이터를 전처리\n",
    "from selenium import webdriver   # 웹 브라우저 자동화\n",
    "import time    # 서버와 통신할 때 중간중간 시간 지연. 보통은 1초\n",
    "from tqdm import tqdm_notebook   # for문 돌릴 때 진행상황을 %게이지로 알려준다."
   ]
  },
  {
   "cell_type": "code",
   "execution_count": 4,
   "metadata": {},
   "outputs": [
    {
     "name": "stdout",
     "output_type": "stream",
     "text": [
      "Python 3.8.5\n"
     ]
    }
   ],
   "source": [
    "# python 버전 확인\n",
    "!python --version"
   ]
  },
  {
   "cell_type": "code",
   "execution_count": 5,
   "metadata": {
    "scrolled": true
   },
   "outputs": [
    {
     "data": {
      "text/plain": [
       "'1.1.3'"
      ]
     },
     "execution_count": 5,
     "metadata": {},
     "output_type": "execute_result"
    }
   ],
   "source": [
    "# 판다스 버전 확인\n",
    "pd.__version__"
   ]
  },
  {
   "cell_type": "markdown",
   "metadata": {},
   "source": [
    "# 크롤링할 url 수집하기"
   ]
  },
  {
   "cell_type": "code",
   "execution_count": 6,
   "metadata": {},
   "outputs": [
    {
     "data": {
      "text/plain": [
       "'C:\\\\Users\\\\JiHee\\\\Desktop\\\\python\\\\크롤링'"
      ]
     },
     "execution_count": 6,
     "metadata": {},
     "output_type": "execute_result"
    }
   ],
   "source": [
    "pwd"
   ]
  },
  {
   "cell_type": "code",
   "execution_count": 7,
   "metadata": {
    "code_folding": []
   },
   "outputs": [],
   "source": [
    "#Step 1. 크롬 웹브라우저 실행\n",
    "path = \"chromedriver.exe\"       # 윈도우는 \"chromedriver.exe\"\n",
    "\n",
    "driver = webdriver.Chrome(path)\n",
    "driver.maximize_window()\n",
    "# 사이트 주소는 네이버\n",
    "driver.get('https://movie.naver.com/')\n",
    "time.sleep(2)  # 2초간 정지"
   ]
  },
  {
   "cell_type": "code",
   "execution_count": 8,
   "metadata": {
    "code_folding": []
   },
   "outputs": [],
   "source": [
    "# 검색옵션 확인, 클래스 확인 F12\n",
    "item_li = driver.find_elements_by_css_selector(' .menu02') # 띄어쓰기(아래있을때 띄어쓰기 .)\n",
    "# find_elements 복수형\n",
    "# 버튼 클릭 : .click()\n",
    "# text 확인 : .text\n",
    "# 속성값 확인 : .get_attribute(href)"
   ]
  },
  {
   "cell_type": "code",
   "execution_count": 9,
   "metadata": {
    "code_folding": [],
    "scrolled": true
   },
   "outputs": [
    {
     "name": "stdout",
     "output_type": "stream",
     "text": [
      "상영작·예정작\n"
     ]
    }
   ],
   "source": [
    "for i in range(0, len(item_li)):\n",
    "    print(item_li[i].text)"
   ]
  },
  {
   "cell_type": "code",
   "execution_count": 10,
   "metadata": {
    "scrolled": true
   },
   "outputs": [
    {
     "name": "stdout",
     "output_type": "stream",
     "text": [
      "상영작·예정작\n"
     ]
    }
   ],
   "source": [
    "# 검색기간 클릭, ↑ 열번째 0번부터\n",
    "print(item_li[0].text)\n",
    "\n",
    "item_li[0].click()"
   ]
  },
  {
   "cell_type": "code",
   "execution_count": 11,
   "metadata": {},
   "outputs": [],
   "source": [
    "# 스크롤 다운\n",
    "# driver.execute_script(\"window.scrollTo(0, 500)\")\n",
    "# time.sleep(2)\n",
    "\n",
    "# 스크롤을 밑으로 내려주는 함수\n",
    "def scroll_down(driver): # driver : 매개변수(아무렇게)\n",
    "    driver.execute_script(\"window.scrollTo(0, 19431049)\")\n",
    "    time.sleep(1)\n",
    "\n",
    "# n: 스크롤할 횟수 설정\n",
    "n = 5\n",
    "i = 0\n",
    "while i < 5: # 이 조건이 만족되는 동안 반복 실행, n 값\n",
    "    scroll_down(driver) # 스크롤 다운\n",
    "    i = i+1"
   ]
  },
  {
   "cell_type": "code",
   "execution_count": 12,
   "metadata": {},
   "outputs": [],
   "source": [
    "# 블로그 글 url들 수집\n",
    "url_list = []\n",
    "title_list = []\n",
    "\n",
    "# URL_raw 크롤링 시작, 띄어쓰기는 .으로 대체, 클래스값 링크 앞에는 .안씀\n",
    "articles = \" .tit > a\"\n",
    "article_raw = driver.find_elements_by_css_selector(articles)\n"
   ]
  },
  {
   "cell_type": "code",
   "execution_count": 13,
   "metadata": {
    "scrolled": true
   },
   "outputs": [
    {
     "data": {
      "text/plain": [
       "' .tit > a'"
      ]
     },
     "execution_count": 13,
     "metadata": {},
     "output_type": "execute_result"
    }
   ],
   "source": [
    "articles"
   ]
  },
  {
   "cell_type": "code",
   "execution_count": 14,
   "metadata": {},
   "outputs": [
    {
     "data": {
      "text/plain": [
       "'https://movie.naver.com/movie/bi/mi/basic.nhn?code=191570'"
      ]
     },
     "execution_count": 14,
     "metadata": {},
     "output_type": "execute_result"
    }
   ],
   "source": [
    "# F12 누르고 링크 누르면 나오는 사이트 주소 앞부분의 a href의 값 \n",
    "article_raw[0].get_attribute('href')"
   ]
  },
  {
   "cell_type": "code",
   "execution_count": 15,
   "metadata": {
    "scrolled": true
   },
   "outputs": [
    {
     "name": "stdout",
     "output_type": "stream",
     "text": [
      "스파이럴\n",
      "크루즈 패밀리: 뉴 에이지\n",
      "더 스파이\n",
      "극장판 귀멸의 칼날: 무한열차편\n",
      "비와 당신의 이야기\n",
      "미나리\n",
      "노매드랜드\n",
      "내겐 너무 소중한 너\n",
      "아들의 이름으로\n",
      "극장판 콩순이: 장난감나라 대모험\n",
      "아이들은 즐겁다\n",
      "명탐정 코난: 비색의 탄환\n",
      "해리 포터와 아즈카반의 죄수\n",
      "링: 더 라스트 챕터\n",
      "빅 피쉬\n",
      "학교 가는 길\n",
      "내가 죽기를 바라는 자들\n",
      "내일의 기억\n",
      "비커밍 아스트리드\n",
      "더 파더\n",
      "좋은 빛, 좋은 공기\n",
      "슈퍼노바\n",
      "체리 향기\n",
      "자산어보\n",
      "바람과 함께 사라지다\n",
      "내 친구의 집은 어디인가\n",
      "비밀의 정원\n",
      "범털2 : 쩐의 전쟁\n",
      "그리고 삶은 계속된다\n",
      "극장판 바다 탐험대 옥토넛 : 불의 고리 대폭발\n",
      "바람이 우리를 데려다 주리라\n",
      "어른들은 몰라요\n",
      "사랑에 빠진 것처럼\n",
      "키퍼스\n",
      "소년시절의 너\n",
      "올리브 나무 사이로\n",
      "중경삼림\n",
      "화녀\n",
      "아무도 없는 곳\n",
      "그 시절, 우리가 좋아했던 소녀\n",
      "날씨의 아이\n",
      "너의 이름은.\n",
      "조제, 호랑이 그리고 물고기들\n",
      "파리의 별빛 아래\n",
      "라야와 마지막 드래곤\n",
      "동사서독 리덕스\n",
      "불한당: 나쁜 놈들의 세상\n",
      "화양연화\n",
      "좋아해, 너를\n",
      "적호서생\n",
      "언어의 정원\n",
      "소울\n",
      "황무지 5월의 고해\n",
      "레이니 데이 인 뉴욕\n",
      "바그다드 카페 : 디렉터스컷\n",
      "문라이즈 킹덤\n",
      "사랑하고 사랑받고, 차고 차이고\n",
      "컴 애즈 유 아\n",
      "신세계\n",
      "플로리다 프로젝트\n",
      "고질라 VS. 콩\n",
      "레 미제라블\n",
      "오명\n",
      "유다 그리고 블랙 메시아\n",
      "더스트맨\n",
      "무순, 세상을 가로질러\n",
      "구름의 저편, 약속의 장소\n",
      "당신의 사월\n",
      "해길랍\n",
      "미스\n",
      "스쿨 오브 락(樂)\n",
      "배드 헤어\n",
      "부활: 그 증거\n",
      "더 랍스터\n",
      "8년을 뛰어넘은 신부\n",
      "아랑\n",
      "해피 투게더\n",
      "별을 쫓는 아이\n",
      "세자매\n",
      "어처구니 없는\n",
      "진짜로 일어날지도 몰라 기적\n",
      "나는보리\n",
      "내언니전지현과 나\n",
      "다시 태어나도 우리\n",
      "독전\n",
      "러브 액츄얼리\n",
      "룸\n",
      "반지의 제왕: 두 개의 탑\n",
      "반지의 제왕: 반지 원정대\n",
      "반지의 제왕: 왕의 귀환\n",
      "스파이의 아내\n",
      "스프링 송\n",
      "시저는 죽어야 한다\n",
      "악녀\n",
      "야구소녀\n",
      "오늘, 우리 2\n",
      "와와의 학교 가는 날\n",
      "정말 먼 곳\n",
      "카페 소사이어티\n",
      "킬링\n",
      "타오르는 여인의 초상\n",
      "타인의 친절\n",
      "팅커 테일러 솔저 스파이\n",
      "패터슨\n",
      "피넛 버터 팔콘\n",
      "홈런: 야구소년\n",
      "1917\n",
      "라라랜드\n",
      "마미\n",
      "마크맨\n",
      "미스 사이공: 25주년 특별 공연\n",
      "시네마 천국\n",
      "\n",
      "url갯수:  112\n",
      "title갯수:  112\n"
     ]
    }
   ],
   "source": [
    "# 크롤링한 url 정제 시작\n",
    "for article in article_raw:\n",
    "    # URL 또는 파란 글씨 가저올 경우 gat_attribute()\n",
    "    url = article.get_attribute('href')   \n",
    "    url_list.append(url)\n",
    "# list(url) 추가\n",
    "# 1초 쉬어 주고,\n",
    "time.sleep(1)\n",
    "    \n",
    "# 제목 크롤링 시작    \n",
    "# 제목을 가지고 올경우 .text 검은 글씨\n",
    "for article in article_raw:\n",
    "    title = article.text\n",
    "    title_list.append(title)\n",
    "# list(title) 추가\n",
    "    print(title)\n",
    "\n",
    "print(\"\")\n",
    "print('url갯수: ', len(url_list))\n",
    "print('title갯수: ', len(title_list))"
   ]
  },
  {
   "cell_type": "code",
   "execution_count": 16,
   "metadata": {},
   "outputs": [
    {
     "data": {
      "text/plain": [
       "'C:\\\\Users\\\\JiHee\\\\Desktop\\\\python\\\\크롤링'"
      ]
     },
     "execution_count": 16,
     "metadata": {},
     "output_type": "execute_result"
    }
   ],
   "source": [
    "pwd"
   ]
  },
  {
   "cell_type": "code",
   "execution_count": 17,
   "metadata": {},
   "outputs": [
    {
     "data": {
      "text/plain": [
       "['https://movie.naver.com/movie/bi/mi/basic.nhn?code=191570',\n",
       " 'https://movie.naver.com/movie/bi/mi/basic.nhn?code=107992',\n",
       " 'https://movie.naver.com/movie/bi/mi/basic.nhn?code=191914',\n",
       " 'https://movie.naver.com/movie/bi/mi/basic.nhn?code=196051',\n",
       " 'https://movie.naver.com/movie/bi/mi/basic.nhn?code=192620',\n",
       " 'https://movie.naver.com/movie/bi/mi/basic.nhn?code=187310',\n",
       " 'https://movie.naver.com/movie/bi/mi/basic.nhn?code=196215',\n",
       " 'https://movie.naver.com/movie/bi/mi/basic.nhn?code=201898',\n",
       " 'https://movie.naver.com/movie/bi/mi/basic.nhn?code=195694',\n",
       " 'https://movie.naver.com/movie/bi/mi/basic.nhn?code=203488',\n",
       " 'https://movie.naver.com/movie/bi/mi/basic.nhn?code=203468',\n",
       " 'https://movie.naver.com/movie/bi/mi/basic.nhn?code=203097',\n",
       " 'https://movie.naver.com/movie/bi/mi/basic.nhn?code=35546',\n",
       " 'https://movie.naver.com/movie/bi/mi/basic.nhn?code=204202',\n",
       " 'https://movie.naver.com/movie/bi/mi/basic.nhn?code=37936',\n",
       " 'https://movie.naver.com/movie/bi/mi/basic.nhn?code=197071',\n",
       " 'https://movie.naver.com/movie/bi/mi/basic.nhn?code=203643',\n",
       " 'https://movie.naver.com/movie/bi/mi/basic.nhn?code=185293',\n",
       " 'https://movie.naver.com/movie/bi/mi/basic.nhn?code=175540',\n",
       " 'https://movie.naver.com/movie/bi/mi/basic.nhn?code=191920',\n",
       " 'https://movie.naver.com/movie/bi/mi/basic.nhn?code=198304',\n",
       " 'https://movie.naver.com/movie/bi/mi/basic.nhn?code=197413',\n",
       " 'https://movie.naver.com/movie/bi/mi/basic.nhn?code=18783',\n",
       " 'https://movie.naver.com/movie/bi/mi/basic.nhn?code=189075',\n",
       " 'https://movie.naver.com/movie/bi/mi/basic.nhn?code=10020',\n",
       " 'https://movie.naver.com/movie/bi/mi/basic.nhn?code=23870',\n",
       " 'https://movie.naver.com/movie/bi/mi/basic.nhn?code=189620',\n",
       " 'https://movie.naver.com/movie/bi/mi/basic.nhn?code=201853',\n",
       " 'https://movie.naver.com/movie/bi/mi/basic.nhn?code=19375',\n",
       " 'https://movie.naver.com/movie/bi/mi/basic.nhn?code=201923',\n",
       " 'https://movie.naver.com/movie/bi/mi/basic.nhn?code=27267',\n",
       " 'https://movie.naver.com/movie/bi/mi/basic.nhn?code=195691',\n",
       " 'https://movie.naver.com/movie/bi/mi/basic.nhn?code=95253',\n",
       " 'https://movie.naver.com/movie/bi/mi/basic.nhn?code=154258',\n",
       " 'https://movie.naver.com/movie/bi/mi/basic.nhn?code=192066',\n",
       " 'https://movie.naver.com/movie/bi/mi/basic.nhn?code=16581',\n",
       " 'https://movie.naver.com/movie/bi/mi/basic.nhn?code=17059',\n",
       " 'https://movie.naver.com/movie/bi/mi/basic.nhn?code=31132',\n",
       " 'https://movie.naver.com/movie/bi/mi/basic.nhn?code=184366',\n",
       " 'https://movie.naver.com/movie/bi/mi/basic.nhn?code=88669',\n",
       " 'https://movie.naver.com/movie/bi/mi/basic.nhn?code=181114',\n",
       " 'https://movie.naver.com/movie/bi/mi/basic.nhn?code=150198',\n",
       " 'https://movie.naver.com/movie/bi/mi/basic.nhn?code=195970',\n",
       " 'https://movie.naver.com/movie/bi/mi/basic.nhn?code=195441',\n",
       " 'https://movie.naver.com/movie/bi/mi/basic.nhn?code=184518',\n",
       " 'https://movie.naver.com/movie/bi/mi/basic.nhn?code=49085',\n",
       " 'https://movie.naver.com/movie/bi/mi/basic.nhn?code=154112',\n",
       " 'https://movie.naver.com/movie/bi/mi/basic.nhn?code=28876',\n",
       " 'https://movie.naver.com/movie/bi/mi/basic.nhn?code=144213',\n",
       " 'https://movie.naver.com/movie/bi/mi/basic.nhn?code=201920',\n",
       " 'https://movie.naver.com/movie/bi/mi/basic.nhn?code=106335',\n",
       " 'https://movie.naver.com/movie/bi/mi/basic.nhn?code=184517',\n",
       " 'https://movie.naver.com/movie/bi/mi/basic.nhn?code=195670',\n",
       " 'https://movie.naver.com/movie/bi/mi/basic.nhn?code=152691',\n",
       " 'https://movie.naver.com/movie/bi/mi/basic.nhn?code=16601',\n",
       " 'https://movie.naver.com/movie/bi/mi/basic.nhn?code=90537',\n",
       " 'https://movie.naver.com/movie/bi/mi/basic.nhn?code=196979',\n",
       " 'https://movie.naver.com/movie/bi/mi/basic.nhn?code=185365',\n",
       " 'https://movie.naver.com/movie/bi/mi/basic.nhn?code=91031',\n",
       " 'https://movie.naver.com/movie/bi/mi/basic.nhn?code=164719',\n",
       " 'https://movie.naver.com/movie/bi/mi/basic.nhn?code=191637',\n",
       " 'https://movie.naver.com/movie/bi/mi/basic.nhn?code=185276',\n",
       " 'https://movie.naver.com/movie/bi/mi/basic.nhn?code=19041',\n",
       " 'https://movie.naver.com/movie/bi/mi/basic.nhn?code=196372',\n",
       " 'https://movie.naver.com/movie/bi/mi/basic.nhn?code=194085',\n",
       " 'https://movie.naver.com/movie/bi/mi/basic.nhn?code=189566',\n",
       " 'https://movie.naver.com/movie/bi/mi/basic.nhn?code=38249',\n",
       " 'https://movie.naver.com/movie/bi/mi/basic.nhn?code=189586',\n",
       " 'https://movie.naver.com/movie/bi/mi/basic.nhn?code=197463',\n",
       " 'https://movie.naver.com/movie/bi/mi/basic.nhn?code=197458',\n",
       " 'https://movie.naver.com/movie/bi/mi/basic.nhn?code=203661',\n",
       " 'https://movie.naver.com/movie/bi/mi/basic.nhn?code=191901',\n",
       " 'https://movie.naver.com/movie/bi/mi/basic.nhn?code=194334',\n",
       " 'https://movie.naver.com/movie/bi/mi/basic.nhn?code=120793',\n",
       " 'https://movie.naver.com/movie/bi/mi/basic.nhn?code=163676',\n",
       " 'https://movie.naver.com/movie/bi/mi/basic.nhn?code=45664',\n",
       " 'https://movie.naver.com/movie/bi/mi/basic.nhn?code=19335',\n",
       " 'https://movie.naver.com/movie/bi/mi/basic.nhn?code=84505',\n",
       " 'https://movie.naver.com/movie/bi/mi/basic.nhn?code=193328',\n",
       " 'https://movie.naver.com/movie/bi/mi/basic.nhn?code=197460',\n",
       " 'https://movie.naver.com/movie/bi/mi/basic.nhn?code=87663',\n",
       " 'https://movie.naver.com/movie/bi/mi/basic.nhn?code=179394',\n",
       " 'https://movie.naver.com/movie/bi/mi/basic.nhn?code=193331',\n",
       " 'https://movie.naver.com/movie/bi/mi/basic.nhn?code=154573',\n",
       " 'https://movie.naver.com/movie/bi/mi/basic.nhn?code=158178',\n",
       " 'https://movie.naver.com/movie/bi/mi/basic.nhn?code=36843',\n",
       " 'https://movie.naver.com/movie/bi/mi/basic.nhn?code=130989',\n",
       " 'https://movie.naver.com/movie/bi/mi/basic.nhn?code=31795',\n",
       " 'https://movie.naver.com/movie/bi/mi/basic.nhn?code=31794',\n",
       " 'https://movie.naver.com/movie/bi/mi/basic.nhn?code=31796',\n",
       " 'https://movie.naver.com/movie/bi/mi/basic.nhn?code=196052',\n",
       " 'https://movie.naver.com/movie/bi/mi/basic.nhn?code=198308',\n",
       " 'https://movie.naver.com/movie/bi/mi/basic.nhn?code=91946',\n",
       " 'https://movie.naver.com/movie/bi/mi/basic.nhn?code=155256',\n",
       " 'https://movie.naver.com/movie/bi/mi/basic.nhn?code=189633',\n",
       " 'https://movie.naver.com/movie/bi/mi/basic.nhn?code=194347',\n",
       " 'https://movie.naver.com/movie/bi/mi/basic.nhn?code=54304',\n",
       " 'https://movie.naver.com/movie/bi/mi/basic.nhn?code=193043',\n",
       " 'https://movie.naver.com/movie/bi/mi/basic.nhn?code=136870',\n",
       " 'https://movie.naver.com/movie/bi/mi/basic.nhn?code=178065',\n",
       " 'https://movie.naver.com/movie/bi/mi/basic.nhn?code=185282',\n",
       " 'https://movie.naver.com/movie/bi/mi/basic.nhn?code=183234',\n",
       " 'https://movie.naver.com/movie/bi/mi/basic.nhn?code=80219',\n",
       " 'https://movie.naver.com/movie/bi/mi/basic.nhn?code=144975',\n",
       " 'https://movie.naver.com/movie/bi/mi/basic.nhn?code=163829',\n",
       " 'https://movie.naver.com/movie/bi/mi/basic.nhn?code=197027',\n",
       " 'https://movie.naver.com/movie/bi/mi/basic.nhn?code=187321',\n",
       " 'https://movie.naver.com/movie/bi/mi/basic.nhn?code=134963',\n",
       " 'https://movie.naver.com/movie/bi/mi/basic.nhn?code=124225',\n",
       " 'https://movie.naver.com/movie/bi/mi/basic.nhn?code=200900',\n",
       " 'https://movie.naver.com/movie/bi/mi/basic.nhn?code=155123',\n",
       " 'https://movie.naver.com/movie/bi/mi/basic.nhn?code=10001']"
      ]
     },
     "execution_count": 17,
     "metadata": {},
     "output_type": "execute_result"
    }
   ],
   "source": [
    "url_list"
   ]
  },
  {
   "cell_type": "code",
   "execution_count": 18,
   "metadata": {
    "scrolled": true
   },
   "outputs": [
    {
     "data": {
      "text/plain": [
       "['스파이럴',\n",
       " '크루즈 패밀리: 뉴 에이지',\n",
       " '더 스파이',\n",
       " '극장판 귀멸의 칼날: 무한열차편',\n",
       " '비와 당신의 이야기',\n",
       " '미나리',\n",
       " '노매드랜드',\n",
       " '내겐 너무 소중한 너',\n",
       " '아들의 이름으로',\n",
       " '극장판 콩순이: 장난감나라 대모험',\n",
       " '아이들은 즐겁다',\n",
       " '명탐정 코난: 비색의 탄환',\n",
       " '해리 포터와 아즈카반의 죄수',\n",
       " '링: 더 라스트 챕터',\n",
       " '빅 피쉬',\n",
       " '학교 가는 길',\n",
       " '내가 죽기를 바라는 자들',\n",
       " '내일의 기억',\n",
       " '비커밍 아스트리드',\n",
       " '더 파더',\n",
       " '좋은 빛, 좋은 공기',\n",
       " '슈퍼노바',\n",
       " '체리 향기',\n",
       " '자산어보',\n",
       " '바람과 함께 사라지다',\n",
       " '내 친구의 집은 어디인가',\n",
       " '비밀의 정원',\n",
       " '범털2 : 쩐의 전쟁',\n",
       " '그리고 삶은 계속된다',\n",
       " '극장판 바다 탐험대 옥토넛 : 불의 고리 대폭발',\n",
       " '바람이 우리를 데려다 주리라',\n",
       " '어른들은 몰라요',\n",
       " '사랑에 빠진 것처럼',\n",
       " '키퍼스',\n",
       " '소년시절의 너',\n",
       " '올리브 나무 사이로',\n",
       " '중경삼림',\n",
       " '화녀',\n",
       " '아무도 없는 곳',\n",
       " '그 시절, 우리가 좋아했던 소녀',\n",
       " '날씨의 아이',\n",
       " '너의 이름은.',\n",
       " '조제, 호랑이 그리고 물고기들',\n",
       " '파리의 별빛 아래',\n",
       " '라야와 마지막 드래곤',\n",
       " '동사서독 리덕스',\n",
       " '불한당: 나쁜 놈들의 세상',\n",
       " '화양연화',\n",
       " '좋아해, 너를',\n",
       " '적호서생',\n",
       " '언어의 정원',\n",
       " '소울',\n",
       " '황무지 5월의 고해',\n",
       " '레이니 데이 인 뉴욕',\n",
       " '바그다드 카페 : 디렉터스컷',\n",
       " '문라이즈 킹덤',\n",
       " '사랑하고 사랑받고, 차고 차이고',\n",
       " '컴 애즈 유 아',\n",
       " '신세계',\n",
       " '플로리다 프로젝트',\n",
       " '고질라 VS. 콩',\n",
       " '레 미제라블',\n",
       " '오명',\n",
       " '유다 그리고 블랙 메시아',\n",
       " '더스트맨',\n",
       " '무순, 세상을 가로질러',\n",
       " '구름의 저편, 약속의 장소',\n",
       " '당신의 사월',\n",
       " '해길랍',\n",
       " '미스',\n",
       " '스쿨 오브 락(樂)',\n",
       " '배드 헤어',\n",
       " '부활: 그 증거',\n",
       " '더 랍스터',\n",
       " '8년을 뛰어넘은 신부',\n",
       " '아랑',\n",
       " '해피 투게더',\n",
       " '별을 쫓는 아이',\n",
       " '세자매',\n",
       " '어처구니 없는',\n",
       " '진짜로 일어날지도 몰라 기적',\n",
       " '나는보리',\n",
       " '내언니전지현과 나',\n",
       " '다시 태어나도 우리',\n",
       " '독전',\n",
       " '러브 액츄얼리',\n",
       " '룸',\n",
       " '반지의 제왕: 두 개의 탑',\n",
       " '반지의 제왕: 반지 원정대',\n",
       " '반지의 제왕: 왕의 귀환',\n",
       " '스파이의 아내',\n",
       " '스프링 송',\n",
       " '시저는 죽어야 한다',\n",
       " '악녀',\n",
       " '야구소녀',\n",
       " '오늘, 우리 2',\n",
       " '와와의 학교 가는 날',\n",
       " '정말 먼 곳',\n",
       " '카페 소사이어티',\n",
       " '킬링',\n",
       " '타오르는 여인의 초상',\n",
       " '타인의 친절',\n",
       " '팅커 테일러 솔저 스파이',\n",
       " '패터슨',\n",
       " '피넛 버터 팔콘',\n",
       " '홈런: 야구소년',\n",
       " '1917',\n",
       " '라라랜드',\n",
       " '마미',\n",
       " '마크맨',\n",
       " '미스 사이공: 25주년 특별 공연',\n",
       " '시네마 천국']"
      ]
     },
     "execution_count": 18,
     "metadata": {},
     "output_type": "execute_result"
    }
   ],
   "source": [
    "title_list"
   ]
  },
  {
   "cell_type": "code",
   "execution_count": 19,
   "metadata": {
    "scrolled": true
   },
   "outputs": [
    {
     "data": {
      "text/html": [
       "<div>\n",
       "<style scoped>\n",
       "    .dataframe tbody tr th:only-of-type {\n",
       "        vertical-align: middle;\n",
       "    }\n",
       "\n",
       "    .dataframe tbody tr th {\n",
       "        vertical-align: top;\n",
       "    }\n",
       "\n",
       "    .dataframe thead th {\n",
       "        text-align: right;\n",
       "    }\n",
       "</style>\n",
       "<table border=\"1\" class=\"dataframe\">\n",
       "  <thead>\n",
       "    <tr style=\"text-align: right;\">\n",
       "      <th></th>\n",
       "      <th>url</th>\n",
       "      <th>title</th>\n",
       "    </tr>\n",
       "  </thead>\n",
       "  <tbody>\n",
       "    <tr>\n",
       "      <th>0</th>\n",
       "      <td>https://movie.naver.com/movie/bi/mi/basic.nhn?...</td>\n",
       "      <td>스파이럴</td>\n",
       "    </tr>\n",
       "    <tr>\n",
       "      <th>1</th>\n",
       "      <td>https://movie.naver.com/movie/bi/mi/basic.nhn?...</td>\n",
       "      <td>크루즈 패밀리: 뉴 에이지</td>\n",
       "    </tr>\n",
       "    <tr>\n",
       "      <th>2</th>\n",
       "      <td>https://movie.naver.com/movie/bi/mi/basic.nhn?...</td>\n",
       "      <td>더 스파이</td>\n",
       "    </tr>\n",
       "    <tr>\n",
       "      <th>3</th>\n",
       "      <td>https://movie.naver.com/movie/bi/mi/basic.nhn?...</td>\n",
       "      <td>극장판 귀멸의 칼날: 무한열차편</td>\n",
       "    </tr>\n",
       "    <tr>\n",
       "      <th>4</th>\n",
       "      <td>https://movie.naver.com/movie/bi/mi/basic.nhn?...</td>\n",
       "      <td>비와 당신의 이야기</td>\n",
       "    </tr>\n",
       "    <tr>\n",
       "      <th>...</th>\n",
       "      <td>...</td>\n",
       "      <td>...</td>\n",
       "    </tr>\n",
       "    <tr>\n",
       "      <th>107</th>\n",
       "      <td>https://movie.naver.com/movie/bi/mi/basic.nhn?...</td>\n",
       "      <td>라라랜드</td>\n",
       "    </tr>\n",
       "    <tr>\n",
       "      <th>108</th>\n",
       "      <td>https://movie.naver.com/movie/bi/mi/basic.nhn?...</td>\n",
       "      <td>마미</td>\n",
       "    </tr>\n",
       "    <tr>\n",
       "      <th>109</th>\n",
       "      <td>https://movie.naver.com/movie/bi/mi/basic.nhn?...</td>\n",
       "      <td>마크맨</td>\n",
       "    </tr>\n",
       "    <tr>\n",
       "      <th>110</th>\n",
       "      <td>https://movie.naver.com/movie/bi/mi/basic.nhn?...</td>\n",
       "      <td>미스 사이공: 25주년 특별 공연</td>\n",
       "    </tr>\n",
       "    <tr>\n",
       "      <th>111</th>\n",
       "      <td>https://movie.naver.com/movie/bi/mi/basic.nhn?...</td>\n",
       "      <td>시네마 천국</td>\n",
       "    </tr>\n",
       "  </tbody>\n",
       "</table>\n",
       "<p>112 rows × 2 columns</p>\n",
       "</div>"
      ],
      "text/plain": [
       "                                                   url               title\n",
       "0    https://movie.naver.com/movie/bi/mi/basic.nhn?...                스파이럴\n",
       "1    https://movie.naver.com/movie/bi/mi/basic.nhn?...      크루즈 패밀리: 뉴 에이지\n",
       "2    https://movie.naver.com/movie/bi/mi/basic.nhn?...               더 스파이\n",
       "3    https://movie.naver.com/movie/bi/mi/basic.nhn?...   극장판 귀멸의 칼날: 무한열차편\n",
       "4    https://movie.naver.com/movie/bi/mi/basic.nhn?...          비와 당신의 이야기\n",
       "..                                                 ...                 ...\n",
       "107  https://movie.naver.com/movie/bi/mi/basic.nhn?...                라라랜드\n",
       "108  https://movie.naver.com/movie/bi/mi/basic.nhn?...                  마미\n",
       "109  https://movie.naver.com/movie/bi/mi/basic.nhn?...                 마크맨\n",
       "110  https://movie.naver.com/movie/bi/mi/basic.nhn?...  미스 사이공: 25주년 특별 공연\n",
       "111  https://movie.naver.com/movie/bi/mi/basic.nhn?...              시네마 천국\n",
       "\n",
       "[112 rows x 2 columns]"
      ]
     },
     "execution_count": 19,
     "metadata": {},
     "output_type": "execute_result"
    }
   ],
   "source": [
    "df = pd.DataFrame({'url':url_list, 'title':title_list})\n",
    "df"
   ]
  },
  {
   "cell_type": "code",
   "execution_count": 20,
   "metadata": {},
   "outputs": [
    {
     "data": {
      "text/plain": [
       "'C:\\\\Users\\\\JiHee\\\\Desktop\\\\python\\\\크롤링'"
      ]
     },
     "execution_count": 20,
     "metadata": {},
     "output_type": "execute_result"
    }
   ],
   "source": [
    "pwd"
   ]
  },
  {
   "cell_type": "code",
   "execution_count": 21,
   "metadata": {},
   "outputs": [],
   "source": [
    "# 저장하기, \n",
    "# 제목, URL 크롤링 완료\n",
    "df.to_excel(\"naver_movie.xlsx\")"
   ]
  },
  {
   "cell_type": "markdown",
   "metadata": {},
   "source": [
    "# 영화 크롤링하기"
   ]
  },
  {
   "cell_type": "code",
   "execution_count": 22,
   "metadata": {},
   "outputs": [],
   "source": [
    "import sys\n",
    "import os\n",
    "import pandas as pd\n",
    "import numpy as np"
   ]
  },
  {
   "cell_type": "code",
   "execution_count": 23,
   "metadata": {
    "scrolled": false
   },
   "outputs": [
    {
     "name": "stdout",
     "output_type": "stream",
     "text": [
      "112\n"
     ]
    },
    {
     "data": {
      "text/html": [
       "<div>\n",
       "<style scoped>\n",
       "    .dataframe tbody tr th:only-of-type {\n",
       "        vertical-align: middle;\n",
       "    }\n",
       "\n",
       "    .dataframe tbody tr th {\n",
       "        vertical-align: top;\n",
       "    }\n",
       "\n",
       "    .dataframe thead th {\n",
       "        text-align: right;\n",
       "    }\n",
       "</style>\n",
       "<table border=\"1\" class=\"dataframe\">\n",
       "  <thead>\n",
       "    <tr style=\"text-align: right;\">\n",
       "      <th></th>\n",
       "      <th>Unnamed: 0</th>\n",
       "      <th>url</th>\n",
       "      <th>title</th>\n",
       "    </tr>\n",
       "  </thead>\n",
       "  <tbody>\n",
       "    <tr>\n",
       "      <th>0</th>\n",
       "      <td>0</td>\n",
       "      <td>https://movie.naver.com/movie/bi/mi/basic.nhn?...</td>\n",
       "      <td>스파이럴</td>\n",
       "    </tr>\n",
       "    <tr>\n",
       "      <th>1</th>\n",
       "      <td>1</td>\n",
       "      <td>https://movie.naver.com/movie/bi/mi/basic.nhn?...</td>\n",
       "      <td>크루즈 패밀리: 뉴 에이지</td>\n",
       "    </tr>\n",
       "    <tr>\n",
       "      <th>2</th>\n",
       "      <td>2</td>\n",
       "      <td>https://movie.naver.com/movie/bi/mi/basic.nhn?...</td>\n",
       "      <td>더 스파이</td>\n",
       "    </tr>\n",
       "    <tr>\n",
       "      <th>3</th>\n",
       "      <td>3</td>\n",
       "      <td>https://movie.naver.com/movie/bi/mi/basic.nhn?...</td>\n",
       "      <td>극장판 귀멸의 칼날: 무한열차편</td>\n",
       "    </tr>\n",
       "    <tr>\n",
       "      <th>4</th>\n",
       "      <td>4</td>\n",
       "      <td>https://movie.naver.com/movie/bi/mi/basic.nhn?...</td>\n",
       "      <td>비와 당신의 이야기</td>\n",
       "    </tr>\n",
       "    <tr>\n",
       "      <th>...</th>\n",
       "      <td>...</td>\n",
       "      <td>...</td>\n",
       "      <td>...</td>\n",
       "    </tr>\n",
       "    <tr>\n",
       "      <th>107</th>\n",
       "      <td>107</td>\n",
       "      <td>https://movie.naver.com/movie/bi/mi/basic.nhn?...</td>\n",
       "      <td>라라랜드</td>\n",
       "    </tr>\n",
       "    <tr>\n",
       "      <th>108</th>\n",
       "      <td>108</td>\n",
       "      <td>https://movie.naver.com/movie/bi/mi/basic.nhn?...</td>\n",
       "      <td>마미</td>\n",
       "    </tr>\n",
       "    <tr>\n",
       "      <th>109</th>\n",
       "      <td>109</td>\n",
       "      <td>https://movie.naver.com/movie/bi/mi/basic.nhn?...</td>\n",
       "      <td>마크맨</td>\n",
       "    </tr>\n",
       "    <tr>\n",
       "      <th>110</th>\n",
       "      <td>110</td>\n",
       "      <td>https://movie.naver.com/movie/bi/mi/basic.nhn?...</td>\n",
       "      <td>미스 사이공: 25주년 특별 공연</td>\n",
       "    </tr>\n",
       "    <tr>\n",
       "      <th>111</th>\n",
       "      <td>111</td>\n",
       "      <td>https://movie.naver.com/movie/bi/mi/basic.nhn?...</td>\n",
       "      <td>시네마 천국</td>\n",
       "    </tr>\n",
       "  </tbody>\n",
       "</table>\n",
       "<p>112 rows × 3 columns</p>\n",
       "</div>"
      ],
      "text/plain": [
       "     Unnamed: 0                                                url  \\\n",
       "0             0  https://movie.naver.com/movie/bi/mi/basic.nhn?...   \n",
       "1             1  https://movie.naver.com/movie/bi/mi/basic.nhn?...   \n",
       "2             2  https://movie.naver.com/movie/bi/mi/basic.nhn?...   \n",
       "3             3  https://movie.naver.com/movie/bi/mi/basic.nhn?...   \n",
       "4             4  https://movie.naver.com/movie/bi/mi/basic.nhn?...   \n",
       "..          ...                                                ...   \n",
       "107         107  https://movie.naver.com/movie/bi/mi/basic.nhn?...   \n",
       "108         108  https://movie.naver.com/movie/bi/mi/basic.nhn?...   \n",
       "109         109  https://movie.naver.com/movie/bi/mi/basic.nhn?...   \n",
       "110         110  https://movie.naver.com/movie/bi/mi/basic.nhn?...   \n",
       "111         111  https://movie.naver.com/movie/bi/mi/basic.nhn?...   \n",
       "\n",
       "                  title  \n",
       "0                  스파이럴  \n",
       "1        크루즈 패밀리: 뉴 에이지  \n",
       "2                 더 스파이  \n",
       "3     극장판 귀멸의 칼날: 무한열차편  \n",
       "4            비와 당신의 이야기  \n",
       "..                  ...  \n",
       "107                라라랜드  \n",
       "108                  마미  \n",
       "109                 마크맨  \n",
       "110  미스 사이공: 25주년 특별 공연  \n",
       "111              시네마 천국  \n",
       "\n",
       "[112 rows x 3 columns]"
      ]
     },
     "execution_count": 23,
     "metadata": {},
     "output_type": "execute_result"
    }
   ],
   "source": [
    "# \"url_list.csv\" 불러오기\n",
    "url_load = pd.read_excel(\"naver_movie.xlsx\") # 기본 모델\n",
    "\n",
    "num_list = len(url_load)\n",
    "\n",
    "print(num_list)\n",
    "url_load"
   ]
  },
  {
   "cell_type": "code",
   "execution_count": 59,
   "metadata": {},
   "outputs": [
    {
     "name": "stderr",
     "output_type": "stream",
     "text": [
      "<ipython-input-59-e071afc3ea5d>:6: TqdmDeprecationWarning: This function will be removed in tqdm==5.0.0\n",
      "Please use `tqdm.notebook.tqdm` instead of `tqdm.tqdm_notebook`\n",
      "  for i in tqdm_notebook(range(0, number)):\n"
     ]
    },
    {
     "data": {
      "application/vnd.jupyter.widget-view+json": {
       "model_id": "862a9a8dadfd4515b4c805ffd5c63bf0",
       "version_major": 2,
       "version_minor": 0
      },
      "text/plain": [
       "HBox(children=(HTML(value=''), FloatProgress(value=0.0, max=10.0), HTML(value='')))"
      ]
     },
     "metadata": {},
     "output_type": "display_data"
    },
    {
     "name": "stdout",
     "output_type": "stream",
     "text": [
      "스파이럴\n",
      "8.52점\n",
      "https://movie-phinf.pstatic.net/20210427_222/1619511153612Vrb5k_JPEG/movie_image.jpg?type=m77_110_2\n",
      "2021 .05.12 개봉\n",
      "크루즈 패밀리: 뉴 에이지\n",
      "9.42점\n",
      "https://movie-phinf.pstatic.net/20210510_287/16206206819509mLLg_JPEG/movie_image.jpg?type=m77_110_2\n",
      "2021 .05.05 개봉\n",
      "더 스파이\n",
      "8.83점\n",
      "https://movie-phinf.pstatic.net/20210504_148/1620107063299XMt1s_JPEG/movie_image.jpg?type=m77_110_2\n",
      "2021 .04.28 개봉\n",
      "극장판 귀멸의 칼날: 무한열차편\n",
      "9.62점\n",
      "https://movie-phinf.pstatic.net/20210126_174/1611638248803840HH_JPEG/movie_image.jpg?type=m77_110_2\n",
      "2021 .01.27 개봉\n",
      "비와 당신의 이야기\n",
      "8.15점\n",
      "https://movie-phinf.pstatic.net/20210405_289/1617598543594hmu5r_JPEG/movie_image.jpg?type=m77_110_2\n",
      "2021 .04.28 개봉\n",
      "미나리\n",
      "8.33점\n",
      "https://movie-phinf.pstatic.net/20210429_50/1619658051996HIPXs_JPEG/movie_image.jpg?type=m77_110_2\n",
      "2021 .03.03 개봉\n",
      "노매드랜드\n",
      "8.57점\n",
      "https://movie-phinf.pstatic.net/20210325_116/16166363029599OMXS_JPEG/movie_image.jpg?type=m77_110_2\n",
      "2021 .04.15 개봉\n",
      "내겐 너무 소중한 너\n",
      "8.00점\n",
      "https://movie-phinf.pstatic.net/20210513_248/1620894322241bLbgw_JPEG/movie_image.jpg?type=m77_110_2\n",
      "2021 .05.12 개봉\n",
      "아들의 이름으로\n",
      "5.33점\n",
      "https://movie-phinf.pstatic.net/20210423_52/1619163659566SWe1o_JPEG/movie_image.jpg?type=m77_110_2\n",
      "2021 .05.12 개봉\n",
      "극장판 콩순이: 장난감나라 대모험\n",
      "8.77점\n",
      "https://movie-phinf.pstatic.net/20210511_239/1620717383918Q0bgO_JPEG/movie_image.jpg?type=m77_110_2\n",
      "2021 .05.05 개봉\n",
      "\n",
      "수집한 글 갯수:  10\n",
      "{0: {'title': '스파이럴', 'starnumber': '8.52점', 'poster': 'https://movie-phinf.pstatic.net/20210427_222/1619511153612Vrb5k_JPEG/movie_image.jpg?type=m77_110_2', 'date': '2021 .05.12 개봉'}, 1: {'title': '크루즈 패밀리: 뉴 에이지', 'starnumber': '9.42점', 'poster': 'https://movie-phinf.pstatic.net/20210510_287/16206206819509mLLg_JPEG/movie_image.jpg?type=m77_110_2', 'date': '2021 .05.05 개봉'}, 2: {'title': '더 스파이', 'starnumber': '8.83점', 'poster': 'https://movie-phinf.pstatic.net/20210504_148/1620107063299XMt1s_JPEG/movie_image.jpg?type=m77_110_2', 'date': '2021 .04.28 개봉'}, 3: {'title': '극장판 귀멸의 칼날: 무한열차편', 'starnumber': '9.62점', 'poster': 'https://movie-phinf.pstatic.net/20210126_174/1611638248803840HH_JPEG/movie_image.jpg?type=m77_110_2', 'date': '2021 .01.27 개봉'}, 4: {'title': '비와 당신의 이야기', 'starnumber': '8.15점', 'poster': 'https://movie-phinf.pstatic.net/20210405_289/1617598543594hmu5r_JPEG/movie_image.jpg?type=m77_110_2', 'date': '2021 .04.28 개봉'}, 5: {'title': '미나리', 'starnumber': '8.33점', 'poster': 'https://movie-phinf.pstatic.net/20210429_50/1619658051996HIPXs_JPEG/movie_image.jpg?type=m77_110_2', 'date': '2021 .03.03 개봉'}, 6: {'title': '노매드랜드', 'starnumber': '8.57점', 'poster': 'https://movie-phinf.pstatic.net/20210325_116/16166363029599OMXS_JPEG/movie_image.jpg?type=m77_110_2', 'date': '2021 .04.15 개봉'}, 7: {'title': '내겐 너무 소중한 너', 'starnumber': '8.00점', 'poster': 'https://movie-phinf.pstatic.net/20210513_248/1620894322241bLbgw_JPEG/movie_image.jpg?type=m77_110_2', 'date': '2021 .05.12 개봉'}, 8: {'title': '아들의 이름으로', 'starnumber': '5.33점', 'poster': 'https://movie-phinf.pstatic.net/20210423_52/1619163659566SWe1o_JPEG/movie_image.jpg?type=m77_110_2', 'date': '2021 .05.12 개봉'}, 9: {'title': '극장판 콩순이: 장난감나라 대모험', 'starnumber': '8.77점', 'poster': 'https://movie-phinf.pstatic.net/20210511_239/1620717383918Q0bgO_JPEG/movie_image.jpg?type=m77_110_2', 'date': '2021 .05.05 개봉'}}\n"
     ]
    }
   ],
   "source": [
    "dict = {}    # 전체 크롤링 데이터를 담을 그릇\n",
    "\n",
    "number = 10  # 수집할 글 갯수 정하기\n",
    "\n",
    "# 수집한 url 돌면서 데이터 수집\n",
    "for i in tqdm_notebook(range(0, number)):\n",
    "    # 글 띄우기\n",
    "    url = url_load['url'][i]\n",
    "    driver = webdriver.Chrome(\"chromedriver.exe\")  # 윈도우는 \"chromedriver.exe\"\n",
    "    driver.maximize_window()\n",
    "    driver.get(url)   # 글 띄우기\n",
    "    time.sleep(3)\n",
    "    \n",
    "    # 크롤링\n",
    "    \n",
    "    try : \n",
    "        # iframe 접근\n",
    "        #driver.switch_to.frame('mainFrame') # frame 안에 frame : 네이버 특징\n",
    "\n",
    "        target_info = {}  # 개별 블로그 내용을 담을 딕셔너리 생성\n",
    "\n",
    "        # 제목 크롤링 시작                               \n",
    "        title = driver.find_element_by_xpath('//*[@id=\"content\"]/div[1]/div[2]/div[1]/h3/a[1]').text          # title\n",
    "        print(title)\n",
    "\n",
    "        # 평점 크롤링 시작                                \n",
    "        \"\"\"star1 = driver.find_element_by_xpath('//*[@class=\"star_score\"]/em[1]').text\n",
    "        star2 = driver.find_element_by_xpath('//*[@class=\"star_score\"]/em[2]').text\n",
    "        star3 = driver.find_element_by_xpath('//*[@class=\"star_score\"]/em[3]').text\n",
    "        star4 = driver.find_element_by_xpath('//*[@class=\"star_score\"]/em[4]').text\n",
    "        a = [star1, star2, star3, star4]\n",
    "        new_a = ''.join(a)\n",
    "        print(new_a)\"\"\"\n",
    "        \n",
    "        star = driver.find_element_by_xpath('//*[@id=\"actualPointPersentBasic\"]/div/span/span').text.split(' ')[2]\n",
    "        print(star)\n",
    "\n",
    "        # 포스터 크롤링\n",
    "        poster = driver.find_element_by_xpath('//*[@class=\"poster\"]/a/img').get_attribute('src')\n",
    "        print(poster)\n",
    "\n",
    "        # 개봉 날짜\n",
    "        date = driver.find_element_by_xpath('//*[@class=\"info_spec\"]//dd[1]//p//span[4]').text\n",
    "        print(date)\n",
    "\n",
    "        \"\"\"content_list = []\n",
    "        for content in contents:\n",
    "            content_list.append(content.text)\n",
    "\n",
    "        content_str = ' '.join(content_list)\"\"\"                         # content_str\n",
    "\n",
    "        # 글 하나는 target_info라는 딕셔너리에 담기게 되고,\n",
    "        target_info['title'] = title\n",
    "        target_info['starnumber'] = star\n",
    "        target_info['poster'] = poster\n",
    "        target_info['date'] = date\n",
    "        \"\"\"target_info['datetime'] = datetime\n",
    "        target_info['content'] = content_str\"\"\"\n",
    "\n",
    "        # 각각의 글은 dict라는 딕셔너리에 담기게 됩니다.\n",
    "        dict[i] = target_info\n",
    "        time.sleep(1)\n",
    "\n",
    "        # 크롤링이 성공하면 글 제목을 출력하게 되고,\n",
    "        #print(i, title)\n",
    "\n",
    "        # 글 하나 크롤링 후 크롬 창을 닫습니다.\n",
    "        driver.close()       \n",
    "\n",
    "    # 에러나면 현재 크롬창을 닫고 다음 글(i+1)로 이동합니다.\n",
    "    except:\n",
    "        print(\"Error\")\n",
    "        driver.close()\n",
    "        time.sleep(1)\n",
    "        continue\n",
    "    \n",
    "    # 중간,중간에 파일로 저장하기\n",
    "    if i == 30 or 50 or 80:\n",
    "        # 판다스로 만들기\n",
    "        import pandas as pd\n",
    "        result_df = pd.DataFrame.from_dict(dict, 'index')\n",
    "\n",
    "        # 저장하기, encoding = 'utf-8-sig' : 한글 오류해결\n",
    "        result_df.to_excel(\"naver_movie.xlsx\", encoding='utf-8-sig') \n",
    "        time.sleep(3)\n",
    "\n",
    "print('수집한 글 갯수: ', len(dict))\n",
    "print(dict)"
   ]
  },
  {
   "cell_type": "code",
   "execution_count": 60,
   "metadata": {},
   "outputs": [
    {
     "data": {
      "text/plain": [
       "{0: {'title': '스파이럴',\n",
       "  'starnumber': '8.52점',\n",
       "  'poster': 'https://movie-phinf.pstatic.net/20210427_222/1619511153612Vrb5k_JPEG/movie_image.jpg?type=m77_110_2',\n",
       "  'date': '2021 .05.12 개봉'},\n",
       " 1: {'title': '크루즈 패밀리: 뉴 에이지',\n",
       "  'starnumber': '9.42점',\n",
       "  'poster': 'https://movie-phinf.pstatic.net/20210510_287/16206206819509mLLg_JPEG/movie_image.jpg?type=m77_110_2',\n",
       "  'date': '2021 .05.05 개봉'},\n",
       " 2: {'title': '더 스파이',\n",
       "  'starnumber': '8.83점',\n",
       "  'poster': 'https://movie-phinf.pstatic.net/20210504_148/1620107063299XMt1s_JPEG/movie_image.jpg?type=m77_110_2',\n",
       "  'date': '2021 .04.28 개봉'},\n",
       " 3: {'title': '극장판 귀멸의 칼날: 무한열차편',\n",
       "  'starnumber': '9.62점',\n",
       "  'poster': 'https://movie-phinf.pstatic.net/20210126_174/1611638248803840HH_JPEG/movie_image.jpg?type=m77_110_2',\n",
       "  'date': '2021 .01.27 개봉'},\n",
       " 4: {'title': '비와 당신의 이야기',\n",
       "  'starnumber': '8.15점',\n",
       "  'poster': 'https://movie-phinf.pstatic.net/20210405_289/1617598543594hmu5r_JPEG/movie_image.jpg?type=m77_110_2',\n",
       "  'date': '2021 .04.28 개봉'},\n",
       " 5: {'title': '미나리',\n",
       "  'starnumber': '8.33점',\n",
       "  'poster': 'https://movie-phinf.pstatic.net/20210429_50/1619658051996HIPXs_JPEG/movie_image.jpg?type=m77_110_2',\n",
       "  'date': '2021 .03.03 개봉'},\n",
       " 6: {'title': '노매드랜드',\n",
       "  'starnumber': '8.57점',\n",
       "  'poster': 'https://movie-phinf.pstatic.net/20210325_116/16166363029599OMXS_JPEG/movie_image.jpg?type=m77_110_2',\n",
       "  'date': '2021 .04.15 개봉'},\n",
       " 7: {'title': '내겐 너무 소중한 너',\n",
       "  'starnumber': '8.00점',\n",
       "  'poster': 'https://movie-phinf.pstatic.net/20210513_248/1620894322241bLbgw_JPEG/movie_image.jpg?type=m77_110_2',\n",
       "  'date': '2021 .05.12 개봉'},\n",
       " 8: {'title': '아들의 이름으로',\n",
       "  'starnumber': '5.33점',\n",
       "  'poster': 'https://movie-phinf.pstatic.net/20210423_52/1619163659566SWe1o_JPEG/movie_image.jpg?type=m77_110_2',\n",
       "  'date': '2021 .05.12 개봉'},\n",
       " 9: {'title': '극장판 콩순이: 장난감나라 대모험',\n",
       "  'starnumber': '8.77점',\n",
       "  'poster': 'https://movie-phinf.pstatic.net/20210511_239/1620717383918Q0bgO_JPEG/movie_image.jpg?type=m77_110_2',\n",
       "  'date': '2021 .05.05 개봉'}}"
      ]
     },
     "execution_count": 60,
     "metadata": {},
     "output_type": "execute_result"
    }
   ],
   "source": [
    "dict"
   ]
  },
  {
   "cell_type": "code",
   "execution_count": 61,
   "metadata": {
    "scrolled": true
   },
   "outputs": [
    {
     "data": {
      "text/html": [
       "<div>\n",
       "<style scoped>\n",
       "    .dataframe tbody tr th:only-of-type {\n",
       "        vertical-align: middle;\n",
       "    }\n",
       "\n",
       "    .dataframe tbody tr th {\n",
       "        vertical-align: top;\n",
       "    }\n",
       "\n",
       "    .dataframe thead th {\n",
       "        text-align: right;\n",
       "    }\n",
       "</style>\n",
       "<table border=\"1\" class=\"dataframe\">\n",
       "  <thead>\n",
       "    <tr style=\"text-align: right;\">\n",
       "      <th></th>\n",
       "      <th>title</th>\n",
       "      <th>starnumber</th>\n",
       "      <th>poster</th>\n",
       "      <th>date</th>\n",
       "    </tr>\n",
       "  </thead>\n",
       "  <tbody>\n",
       "    <tr>\n",
       "      <th>0</th>\n",
       "      <td>스파이럴</td>\n",
       "      <td>8.52점</td>\n",
       "      <td>https://movie-phinf.pstatic.net/20210427_222/1...</td>\n",
       "      <td>2021 .05.12 개봉</td>\n",
       "    </tr>\n",
       "    <tr>\n",
       "      <th>1</th>\n",
       "      <td>크루즈 패밀리: 뉴 에이지</td>\n",
       "      <td>9.42점</td>\n",
       "      <td>https://movie-phinf.pstatic.net/20210510_287/1...</td>\n",
       "      <td>2021 .05.05 개봉</td>\n",
       "    </tr>\n",
       "    <tr>\n",
       "      <th>2</th>\n",
       "      <td>더 스파이</td>\n",
       "      <td>8.83점</td>\n",
       "      <td>https://movie-phinf.pstatic.net/20210504_148/1...</td>\n",
       "      <td>2021 .04.28 개봉</td>\n",
       "    </tr>\n",
       "    <tr>\n",
       "      <th>3</th>\n",
       "      <td>극장판 귀멸의 칼날: 무한열차편</td>\n",
       "      <td>9.62점</td>\n",
       "      <td>https://movie-phinf.pstatic.net/20210126_174/1...</td>\n",
       "      <td>2021 .01.27 개봉</td>\n",
       "    </tr>\n",
       "    <tr>\n",
       "      <th>4</th>\n",
       "      <td>비와 당신의 이야기</td>\n",
       "      <td>8.15점</td>\n",
       "      <td>https://movie-phinf.pstatic.net/20210405_289/1...</td>\n",
       "      <td>2021 .04.28 개봉</td>\n",
       "    </tr>\n",
       "    <tr>\n",
       "      <th>5</th>\n",
       "      <td>미나리</td>\n",
       "      <td>8.33점</td>\n",
       "      <td>https://movie-phinf.pstatic.net/20210429_50/16...</td>\n",
       "      <td>2021 .03.03 개봉</td>\n",
       "    </tr>\n",
       "    <tr>\n",
       "      <th>6</th>\n",
       "      <td>노매드랜드</td>\n",
       "      <td>8.57점</td>\n",
       "      <td>https://movie-phinf.pstatic.net/20210325_116/1...</td>\n",
       "      <td>2021 .04.15 개봉</td>\n",
       "    </tr>\n",
       "    <tr>\n",
       "      <th>7</th>\n",
       "      <td>내겐 너무 소중한 너</td>\n",
       "      <td>8.00점</td>\n",
       "      <td>https://movie-phinf.pstatic.net/20210513_248/1...</td>\n",
       "      <td>2021 .05.12 개봉</td>\n",
       "    </tr>\n",
       "    <tr>\n",
       "      <th>8</th>\n",
       "      <td>아들의 이름으로</td>\n",
       "      <td>5.33점</td>\n",
       "      <td>https://movie-phinf.pstatic.net/20210423_52/16...</td>\n",
       "      <td>2021 .05.12 개봉</td>\n",
       "    </tr>\n",
       "    <tr>\n",
       "      <th>9</th>\n",
       "      <td>극장판 콩순이: 장난감나라 대모험</td>\n",
       "      <td>8.77점</td>\n",
       "      <td>https://movie-phinf.pstatic.net/20210511_239/1...</td>\n",
       "      <td>2021 .05.05 개봉</td>\n",
       "    </tr>\n",
       "  </tbody>\n",
       "</table>\n",
       "</div>"
      ],
      "text/plain": [
       "                title starnumber  \\\n",
       "0                스파이럴      8.52점   \n",
       "1      크루즈 패밀리: 뉴 에이지      9.42점   \n",
       "2               더 스파이      8.83점   \n",
       "3   극장판 귀멸의 칼날: 무한열차편      9.62점   \n",
       "4          비와 당신의 이야기      8.15점   \n",
       "5                 미나리      8.33점   \n",
       "6               노매드랜드      8.57점   \n",
       "7         내겐 너무 소중한 너      8.00점   \n",
       "8            아들의 이름으로      5.33점   \n",
       "9  극장판 콩순이: 장난감나라 대모험      8.77점   \n",
       "\n",
       "                                              poster            date  \n",
       "0  https://movie-phinf.pstatic.net/20210427_222/1...  2021 .05.12 개봉  \n",
       "1  https://movie-phinf.pstatic.net/20210510_287/1...  2021 .05.05 개봉  \n",
       "2  https://movie-phinf.pstatic.net/20210504_148/1...  2021 .04.28 개봉  \n",
       "3  https://movie-phinf.pstatic.net/20210126_174/1...  2021 .01.27 개봉  \n",
       "4  https://movie-phinf.pstatic.net/20210405_289/1...  2021 .04.28 개봉  \n",
       "5  https://movie-phinf.pstatic.net/20210429_50/16...  2021 .03.03 개봉  \n",
       "6  https://movie-phinf.pstatic.net/20210325_116/1...  2021 .04.15 개봉  \n",
       "7  https://movie-phinf.pstatic.net/20210513_248/1...  2021 .05.12 개봉  \n",
       "8  https://movie-phinf.pstatic.net/20210423_52/16...  2021 .05.12 개봉  \n",
       "9  https://movie-phinf.pstatic.net/20210511_239/1...  2021 .05.05 개봉  "
      ]
     },
     "execution_count": 61,
     "metadata": {},
     "output_type": "execute_result"
    }
   ],
   "source": [
    "# 판다스로 만들기\n",
    "import pandas as pd\n",
    "result_df = pd.DataFrame.from_dict(dict, 'index')\n",
    "result_df"
   ]
  },
  {
   "cell_type": "code",
   "execution_count": 62,
   "metadata": {
    "scrolled": true
   },
   "outputs": [],
   "source": [
    "# 엑셀로 저장하기\n",
    "result_df.to_excel(\"naver_movie.xlsx\", encoding='utf-8-sig')"
   ]
  },
  {
   "cell_type": "code",
   "execution_count": 112,
   "metadata": {},
   "outputs": [
    {
     "data": {
      "text/plain": [
       "'C:\\\\Users\\\\17\\\\Desktop\\\\python'"
      ]
     },
     "execution_count": 112,
     "metadata": {},
     "output_type": "execute_result"
    }
   ],
   "source": [
    "pwd"
   ]
  },
  {
   "cell_type": "code",
   "execution_count": null,
   "metadata": {},
   "outputs": [],
   "source": []
  }
 ],
 "metadata": {
  "kernelspec": {
   "display_name": "Python 3",
   "language": "python",
   "name": "python3"
  },
  "language_info": {
   "codemirror_mode": {
    "name": "ipython",
    "version": 3
   },
   "file_extension": ".py",
   "mimetype": "text/x-python",
   "name": "python",
   "nbconvert_exporter": "python",
   "pygments_lexer": "ipython3",
   "version": "3.8.5"
  },
  "toc": {
   "base_numbering": 1,
   "nav_menu": {},
   "number_sections": false,
   "sideBar": true,
   "skip_h1_title": false,
   "title_cell": "Table of Contents",
   "title_sidebar": "Contents",
   "toc_cell": false,
   "toc_position": {},
   "toc_section_display": true,
   "toc_window_display": false
  },
  "varInspector": {
   "cols": {
    "lenName": 16,
    "lenType": 16,
    "lenVar": 40
   },
   "kernels_config": {
    "python": {
     "delete_cmd_postfix": "",
     "delete_cmd_prefix": "del ",
     "library": "var_list.py",
     "varRefreshCmd": "print(var_dic_list())"
    },
    "r": {
     "delete_cmd_postfix": ") ",
     "delete_cmd_prefix": "rm(",
     "library": "var_list.r",
     "varRefreshCmd": "cat(var_dic_list()) "
    }
   },
   "position": {
    "height": "600px",
    "left": "554.76px",
    "right": "20px",
    "top": "88px",
    "width": "424px"
   },
   "types_to_exclude": [
    "module",
    "function",
    "builtin_function_or_method",
    "instance",
    "_Feature"
   ],
   "window_display": false
  }
 },
 "nbformat": 4,
 "nbformat_minor": 2
}
