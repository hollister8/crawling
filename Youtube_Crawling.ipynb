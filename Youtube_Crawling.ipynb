{
 "cells": [
  {
   "cell_type": "code",
   "execution_count": 80,
   "metadata": {},
   "outputs": [
    {
     "data": {
      "text/plain": [
       "'C:\\\\Users\\\\JHKIM\\\\Documents\\\\python\\\\크롤링'"
      ]
     },
     "execution_count": 80,
     "metadata": {},
     "output_type": "execute_result"
    }
   ],
   "source": [
    "pwd"
   ]
  },
  {
   "cell_type": "code",
   "execution_count": 81,
   "metadata": {},
   "outputs": [],
   "source": [
    "import pandas as pd\n",
    "import numpy as np\n",
    "\n",
    "from selenium import webdriver  # 라이브러리(모듈) 가져오라\n",
    "from selenium.webdriver import ActionChains as AC # 웹브라우저 동작\n",
    "from tqdm import tqdm\n",
    "from tqdm.notebook import tqdm\n",
    "import re\n",
    "from time import sleep\n",
    "import time"
   ]
  },
  {
   "cell_type": "code",
   "execution_count": 82,
   "metadata": {},
   "outputs": [],
   "source": [
    "# 데이터 수집할 키워드 지정\n",
    "keyword = \"플레이리스트\""
   ]
  },
  {
   "cell_type": "code",
   "execution_count": 83,
   "metadata": {},
   "outputs": [
    {
     "name": "stderr",
     "output_type": "stream",
     "text": [
      "<ipython-input-83-64ec43ed8d39>:5: DeprecationWarning: use options instead of chrome_options\n",
      "  driver = webdriver.Chrome(chrome_options=options)\n"
     ]
    }
   ],
   "source": [
    "# 크롬창 띄우기\n",
    "options = webdriver.ChromeOptions()\n",
    "options.add_argument(\"--start-maximized\")\n",
    "\n",
    "driver = webdriver.Chrome(chrome_options=options)\n",
    "\n",
    "#driver = webdriver.Chrome(\"chromedriver.exe\")  # 맥 : /Users/aiden/Desktop/chromedriver\n",
    "driver.get(\"https://www.youtube.com/results?search_query={}\".format(keyword))\n",
    "time.sleep(3)"
   ]
  },
  {
   "cell_type": "code",
   "execution_count": 84,
   "metadata": {},
   "outputs": [],
   "source": [
    "# page1에서 url 수집하기\n",
    "things = driver.find_elements_by_id('thumbnail')\n",
    "\n",
    "\n",
    "url_list = []\n",
    "for thing in things:\n",
    "    url = thing.get_attribute('href')\n",
    "    url_list.append(url)"
   ]
  },
  {
   "cell_type": "code",
   "execution_count": 85,
   "metadata": {},
   "outputs": [],
   "source": [
    "df = pd.DataFrame({\"url\":url_list})\n",
    "df.to_csv('YoutubeMusic_urls.csv')"
   ]
  },
  {
   "cell_type": "code",
   "execution_count": 86,
   "metadata": {},
   "outputs": [
    {
     "data": {
      "text/plain": [
       "0           https://www.youtube.com/watch?v=Z0OAEMK8NWA\n",
       "1           https://www.youtube.com/watch?v=Tu8U2w7fLlU\n",
       "2           https://www.youtube.com/watch?v=T-E7OKQrfdU\n",
       "3           https://www.youtube.com/watch?v=g7c0W-8rNmw\n",
       "4           https://www.youtube.com/watch?v=Q1v711XwKG4\n",
       "5           https://www.youtube.com/watch?v=BbT99O68AL0\n",
       "6           https://www.youtube.com/watch?v=FFnlKUbwDFs\n",
       "7           https://www.youtube.com/watch?v=6wJepYuiznU\n",
       "8           https://www.youtube.com/watch?v=tH3Bv_w3I-g\n",
       "9           https://www.youtube.com/watch?v=EVLfmnCmrGU\n",
       "10          https://www.youtube.com/watch?v=eth4n-6UqRI\n",
       "11          https://www.youtube.com/watch?v=iBx3UvAEdZk\n",
       "12          https://www.youtube.com/watch?v=kOMF0PUvrh4\n",
       "13          https://www.youtube.com/watch?v=wQ12qs3bmOg\n",
       "14          https://www.youtube.com/watch?v=jDRXjzrhlno\n",
       "15          https://www.youtube.com/watch?v=BDd0BA8ps3U\n",
       "16          https://www.youtube.com/watch?v=z-1o8EP0i1o\n",
       "17          https://www.youtube.com/watch?v=RYoOL4xXgR0\n",
       "18          https://www.youtube.com/watch?v=p2CHG1k2R3g\n",
       "19    https://www.youtube.com/watch?v=nw6mcjNlh8E&li...\n",
       "20          https://www.youtube.com/watch?v=BzmbtzGkfDM\n",
       "21          https://www.youtube.com/watch?v=7exOT6FIKkE\n",
       "22          https://www.youtube.com/watch?v=_xYRgpByc0c\n",
       "23          https://www.youtube.com/watch?v=VQBZZgD3igM\n",
       "24                                                  NaN\n",
       "Name: url, dtype: object"
      ]
     },
     "execution_count": 86,
     "metadata": {},
     "output_type": "execute_result"
    }
   ],
   "source": [
    "# 저장해둔 url 불러오기\n",
    "df = pd.read_csv('YoutubeMusic_urls.csv')\n",
    "df['url']\n"
   ]
  },
  {
   "cell_type": "code",
   "execution_count": 87,
   "metadata": {},
   "outputs": [
    {
     "name": "stderr",
     "output_type": "stream",
     "text": [
      "<ipython-input-87-40b26a0a31e5>:11: DeprecationWarning: use options instead of chrome_options\n",
      "  driver = webdriver.Chrome(chrome_options=options)\n"
     ]
    },
    {
     "name": "stdout",
     "output_type": "stream",
     "text": [
      "\n",
      "1\n"
     ]
    },
    {
     "data": {
      "text/plain": [
       "{0: {'동영상제목': '[ᴘʟᴀʏʟɪsᴛ] 노래뭐야? 너무좋잖아 띵곡 팝송 플레이리스트 Popsong Radio\\n조회수 27,189회•2021. 5. 5.\\n272\\n5\\n공유\\n저장',\n",
       "  '조회수': '조회수 27,189회',\n",
       "  '채널': '',\n",
       "  '좋아요': '272',\n",
       "  '별로에요': '5',\n",
       "  '댓글 수': 36,\n",
       "  '댓글': ['',\n",
       "   '',\n",
       "   '',\n",
       "   'Instagram 📍: \\nhttps://www.instagram.com/playlist_111/',\n",
       "   '',\n",
       "   '더보기',\n",
       "   '# lhwook32@gmail.com\\n\\n0:01  ━───❍──────── 47:31',\n",
       "   '',\n",
       "   '자세히 보기',\n",
       "   '첫곡 미쳤고 진짜;;; 와',\n",
       "   '',\n",
       "   '',\n",
       "   'Last minute😍😍😍',\n",
       "   '',\n",
       "   '',\n",
       "   '기차여행 하며 듣는 이순간💕💕',\n",
       "   '',\n",
       "   '',\n",
       "   '❤️ 첫 곡 지지직 거리는 거 제 아이패드인줄 ㅋㅋㅋ',\n",
       "   '',\n",
       "   '',\n",
       "   '감사히 듣겠습니다.음칫 두둠칫 \\n랜선으로포옹',\n",
       "   '',\n",
       "   '',\n",
       "   '일하면서 들으니 좋아용',\n",
       "   '',\n",
       "   '',\n",
       "   '잔잔히 듣기 좋아용 오늘 퇴근길플리로 당첨🙌🙌🙌👍',\n",
       "   '',\n",
       "   '',\n",
       "   '첫곡 제목 좀 ㅠㅠ',\n",
       "   '',\n",
       "   '',\n",
       "   '광고 징하네',\n",
       "   '',\n",
       "   '']}}"
      ]
     },
     "execution_count": 87,
     "metadata": {},
     "output_type": "execute_result"
    }
   ],
   "source": [
    "\n",
    "dict = {}\n",
    "\n",
    "# 페이지당 동영상 수집\n",
    "for i in range(0, 5):   # len(df['url'])\n",
    "    # try:\n",
    "        # 크롬창 띄우기\n",
    "        #driver = webdriver.Chrome(\"chromedriver.exe\")  # 맥 : /Users/aiden/Desktop/chromedriver\n",
    "        options = webdriver.ChromeOptions()\n",
    "        options.add_argument(\"--start-maximized\")\n",
    "\n",
    "        driver = webdriver.Chrome(chrome_options=options)\n",
    "        driver.get(df['url'][i])\n",
    "        time.sleep(1)\n",
    "        \n",
    "        \n",
    "        \n",
    "        # 스크롤 내리고 time 줘서 댓글css 로딩\n",
    "        driver.execute_script(\"window.scrollTo(0, window.scrollY + 200);\")\n",
    "        channel = driver.find_element_by_css_selector('.style-scope.ytd-channel-name')\n",
    "        channel = channel.text\n",
    "        print(channel)\n",
    "        time.sleep(3)\n",
    "        driver.execute_script(\"window.scrollTo(0, window.scrollY + 1000);\")\n",
    "        time.sleep(1)\n",
    "        driver.execute_script(\"window.scrollTo(0, window.scrollY + 1000);\")\n",
    "        time.sleep(1)\n",
    "        driver.execute_script(\"window.scrollTo(0, window.scrollY + 1000);\")\n",
    "        time.sleep(1)\n",
    "        driver.execute_script(\"window.scrollTo(0, window.scrollY + 1000);\")\n",
    "        \n",
    "        #raise NotThreeMultipleError\n",
    "\n",
    "        # 동영상 데이터 수집\n",
    "        title = driver.find_element_by_css_selector('.style-scope.ytd-video-primary-info-renderer').text\n",
    "        view = driver.find_element_by_css_selector('.view-count.style-scope.ytd-video-view-count-renderer').text\n",
    "        \n",
    "        text = driver.find_elements_by_css_selector('.style-scope.ytd-toggle-button-renderer.style-text')[1].text\n",
    "\n",
    "        like = title.split('\\n')[2]\n",
    "        bad = title.split('\\n')[3]\n",
    "\n",
    "        # 동영상 댓글 갯수 \n",
    "        review_count = driver.find_element_by_css_selector(\".count-text.style-scope.ytd-comments-header-renderer\").text\n",
    "        review_count = (review_count.replace(',', ''))\n",
    "        review_count = (review_count[3:])\n",
    "        \n",
    "        # review 수집하기\n",
    "        review_list = []\n",
    "        overlays1 = \".style-scope.ytd-expander\"\n",
    "        reviews = driver.find_elements_by_css_selector(overlays1)\n",
    "        for review in reviews:    \n",
    "            review = review.text\n",
    "            review_list.append(review)\n",
    "\n",
    "        target_info = {}\n",
    "        target_info['동영상제목'] = title\n",
    "        target_info['조회수'] = view\n",
    "        target_info['채널'] = channel\n",
    "        target_info['좋아요'] = like\n",
    "        target_info['별로에요'] = bad\n",
    "        target_info['댓글 수'] = len(review_list)\n",
    "        target_info['댓글'] = review_list\n",
    "\n",
    "        dict[i] = target_info\n",
    "        \n",
    "        #print(title, '( 댓글 수:', len(review_list),')')\n",
    "\n",
    "        driver.close()\n",
    "        time.sleep(1)\n",
    "        \n",
    "    # except:\n",
    "    #     print(\"Error\")\n",
    "    #     driver.close()\n",
    "    #     continue\n",
    "\n",
    "print(len(dict))\n",
    "dict\n"
   ]
  },
  {
   "cell_type": "code",
   "execution_count": 88,
   "metadata": {},
   "outputs": [
    {
     "data": {
      "text/html": [
       "<div>\n",
       "<style scoped>\n",
       "    .dataframe tbody tr th:only-of-type {\n",
       "        vertical-align: middle;\n",
       "    }\n",
       "\n",
       "    .dataframe tbody tr th {\n",
       "        vertical-align: top;\n",
       "    }\n",
       "\n",
       "    .dataframe thead th {\n",
       "        text-align: right;\n",
       "    }\n",
       "</style>\n",
       "<table border=\"1\" class=\"dataframe\">\n",
       "  <thead>\n",
       "    <tr style=\"text-align: right;\">\n",
       "      <th></th>\n",
       "      <th>동영상제목</th>\n",
       "      <th>조회수</th>\n",
       "      <th>채널</th>\n",
       "      <th>좋아요</th>\n",
       "      <th>별로에요</th>\n",
       "      <th>댓글 수</th>\n",
       "      <th>댓글</th>\n",
       "    </tr>\n",
       "  </thead>\n",
       "  <tbody>\n",
       "    <tr>\n",
       "      <th>0</th>\n",
       "      <td>[ᴘʟᴀʏʟɪsᴛ] 노래뭐야? 너무좋잖아 띵곡 팝송 플레이리스트 Popsong Ra...</td>\n",
       "      <td>조회수 27,189회</td>\n",
       "      <td></td>\n",
       "      <td>272</td>\n",
       "      <td>5</td>\n",
       "      <td>36</td>\n",
       "      <td>[, , , Instagram 📍: \\nhttps://www.instagram.co...</td>\n",
       "    </tr>\n",
       "  </tbody>\n",
       "</table>\n",
       "</div>"
      ],
      "text/plain": [
       "                                               동영상제목          조회수 채널  좋아요  \\\n",
       "0  [ᴘʟᴀʏʟɪsᴛ] 노래뭐야? 너무좋잖아 띵곡 팝송 플레이리스트 Popsong Ra...  조회수 27,189회     272   \n",
       "\n",
       "  별로에요  댓글 수                                                 댓글  \n",
       "0    5    36  [, , , Instagram 📍: \\nhttps://www.instagram.co...  "
      ]
     },
     "execution_count": 88,
     "metadata": {},
     "output_type": "execute_result"
    }
   ],
   "source": [
    "# 판다스로 만들기\n",
    "import pandas as pd\n",
    "result_df = pd.DataFrame.from_dict(dict, 'index')\n",
    "result_df\n",
    "# result_df.rename(columns={result_df.columns[0] : name}, inplace=True)"
   ]
  },
  {
   "cell_type": "code",
   "execution_count": 89,
   "metadata": {},
   "outputs": [],
   "source": [
    "# 파일로 저장\n",
    "result_df.to_excel(\"YoutubeMusic_({}).xlsx\".format(keyword))"
   ]
  },
  {
   "cell_type": "code",
   "execution_count": null,
   "metadata": {},
   "outputs": [],
   "source": []
  },
  {
   "cell_type": "code",
   "execution_count": null,
   "metadata": {},
   "outputs": [],
   "source": []
  },
  {
   "cell_type": "code",
   "execution_count": null,
   "metadata": {},
   "outputs": [],
   "source": []
  }
 ],
 "metadata": {
  "kernelspec": {
   "display_name": "Python 3",
   "language": "python",
   "name": "python3"
  },
  "language_info": {
   "codemirror_mode": {
    "name": "ipython",
    "version": 3
   },
   "file_extension": ".py",
   "mimetype": "text/x-python",
   "name": "python",
   "nbconvert_exporter": "python",
   "pygments_lexer": "ipython3",
   "version": "3.8.5"
  }
 },
 "nbformat": 4,
 "nbformat_minor": 4
}
