{
 "cells": [
  {
   "cell_type": "code",
   "execution_count": 1,
   "metadata": {},
   "outputs": [
    {
     "data": {
      "text/plain": [
       "'C:\\\\Users\\\\JiHee\\\\Desktop\\\\python\\\\크롤링'"
      ]
     },
     "execution_count": 1,
     "metadata": {},
     "output_type": "execute_result"
    }
   ],
   "source": [
    "pwd"
   ]
  },
  {
   "cell_type": "code",
   "execution_count": 2,
   "metadata": {},
   "outputs": [],
   "source": [
    "import pandas as pd\n",
    "import numpy as np\n",
    "\n",
    "from selenium import webdriver  # 라이브러리(모듈) 가져오라\n",
    "from selenium.webdriver import ActionChains as AC # 웹브라우저 동작\n",
    "from tqdm import tqdm\n",
    "from tqdm.notebook import tqdm\n",
    "import re\n",
    "from time import sleep\n",
    "import time\n",
    "from selenium.webdriver.support import expected_conditions as EC\n",
    "from selenium.webdriver.support.ui import WebDriverWait\n",
    "from selenium.webdriver.common.by import By"
   ]
  },
  {
   "cell_type": "code",
   "execution_count": 3,
   "metadata": {},
   "outputs": [],
   "source": [
    "# 데이터 수집할 키워드 지정\n",
    "keyword = \"플레이리스트\""
   ]
  },
  {
   "cell_type": "code",
   "execution_count": 4,
   "metadata": {},
   "outputs": [
    {
     "name": "stderr",
     "output_type": "stream",
     "text": [
      "<ipython-input-4-64ec43ed8d39>:5: DeprecationWarning: use options instead of chrome_options\n",
      "  driver = webdriver.Chrome(chrome_options=options)\n"
     ]
    }
   ],
   "source": [
    "# 크롬창 띄우기\n",
    "options = webdriver.ChromeOptions()\n",
    "options.add_argument(\"--start-maximized\")\n",
    "\n",
    "driver = webdriver.Chrome(chrome_options=options)\n",
    "\n",
    "#driver = webdriver.Chrome(\"chromedriver.exe\")  # 맥 : /Users/aiden/Desktop/chromedriver\n",
    "driver.get(\"https://www.youtube.com/results?search_query={}\".format(keyword))\n",
    "time.sleep(3)"
   ]
  },
  {
   "cell_type": "code",
   "execution_count": 5,
   "metadata": {},
   "outputs": [],
   "source": [
    "# page1에서 url 수집하기\n",
    "things = driver.find_elements_by_id('thumbnail')\n",
    "\n",
    "\n",
    "url_list = []\n",
    "for thing in things:\n",
    "    url = thing.get_attribute('href')\n",
    "    url_list.append(url)"
   ]
  },
  {
   "cell_type": "code",
   "execution_count": 6,
   "metadata": {},
   "outputs": [],
   "source": [
    "df = pd.DataFrame({\"url\":url_list})\n",
    "df.to_csv('YoutubeMusic_urls.csv')"
   ]
  },
  {
   "cell_type": "code",
   "execution_count": 7,
   "metadata": {},
   "outputs": [
    {
     "data": {
      "text/plain": [
       "0           https://www.youtube.com/watch?v=Z0OAEMK8NWA\n",
       "1           https://www.youtube.com/watch?v=g7c0W-8rNmw\n",
       "2           https://www.youtube.com/watch?v=BbT99O68AL0\n",
       "3           https://www.youtube.com/watch?v=6wJepYuiznU\n",
       "4           https://www.youtube.com/watch?v=lD5MHkAB_eQ\n",
       "5           https://www.youtube.com/watch?v=T-E7OKQrfdU\n",
       "6           https://www.youtube.com/watch?v=Tu8U2w7fLlU\n",
       "7           https://www.youtube.com/watch?v=Q1v711XwKG4\n",
       "8           https://www.youtube.com/watch?v=EVLfmnCmrGU\n",
       "9           https://www.youtube.com/watch?v=FFnlKUbwDFs\n",
       "10          https://www.youtube.com/watch?v=tH3Bv_w3I-g\n",
       "11          https://www.youtube.com/watch?v=RYoOL4xXgR0\n",
       "12          https://www.youtube.com/watch?v=UGtltoMYKNM\n",
       "13          https://www.youtube.com/watch?v=wOpvxU5STwQ\n",
       "14          https://www.youtube.com/watch?v=mxJGDa7ThbE\n",
       "15          https://www.youtube.com/watch?v=JUeGb1JWW9E\n",
       "16          https://www.youtube.com/watch?v=z5F48yvJVVE\n",
       "17          https://www.youtube.com/watch?v=ppHVEYKZPL8\n",
       "18          https://www.youtube.com/watch?v=p2CHG1k2R3g\n",
       "19    https://www.youtube.com/watch?v=ZThVobEtp_o&li...\n",
       "20          https://www.youtube.com/watch?v=PQF3CXqXbfY\n",
       "21          https://www.youtube.com/watch?v=z-1o8EP0i1o\n",
       "22          https://www.youtube.com/watch?v=AJzDFHQ7j0w\n",
       "23          https://www.youtube.com/watch?v=7exOT6FIKkE\n",
       "24                                                  NaN\n",
       "Name: url, dtype: object"
      ]
     },
     "execution_count": 7,
     "metadata": {},
     "output_type": "execute_result"
    }
   ],
   "source": [
    "# 저장해둔 url 불러오기\n",
    "df = pd.read_csv('YoutubeMusic_urls.csv')\n",
    "df['url']\n"
   ]
  },
  {
   "cell_type": "code",
   "execution_count": 12,
   "metadata": {
    "scrolled": false
   },
   "outputs": [
    {
     "data": {
      "application/vnd.jupyter.widget-view+json": {
       "model_id": "8ccdfd4577094eb49d8038ab05e81fc1",
       "version_major": 2,
       "version_minor": 0
      },
      "text/plain": [
       "HBox(children=(HTML(value=''), FloatProgress(value=0.0, max=5.0), HTML(value='')))"
      ]
     },
     "metadata": {},
     "output_type": "display_data"
    },
    {
     "name": "stderr",
     "output_type": "stream",
     "text": [
      "<ipython-input-12-4b427912445b>:10: DeprecationWarning: use options instead of chrome_options\n",
      "  driver = webdriver.Chrome(chrome_options=options)\n"
     ]
    },
    {
     "name": "stdout",
     "output_type": "stream",
     "text": [
      "0 [ᴘʟᴀʏʟɪsᴛ] 노래뭐야? 너무좋잖아 띵곡 팝송 플레이리스트 Popsong Radio\n",
      "1 [Playlist] 아니, 이런 노래는 어떻게 아는거야?? 너무 좋자나... | 노래 좀 듣는 애 플레이리스트😎ㅣShe has good taste in music😎\n",
      "2 [𝐏𝐥𝐚𝐲𝐥𝐢𝐬𝐭] 이번 여름에 무조건 들어야하는 청량감 넘치는 아이돌 노래모음\n",
      "3 [Playlist] 마음이 복잡하고 힘들 때 듣는 감성팝송 플레이리스트\n",
      "4 [playlist] 다들 봄을 즐긴다는데, 내겐 쓰기만 해 l 노래모음 광고없음\n",
      "\n"
     ]
    }
   ],
   "source": [
    "dict = {}\n",
    "# defined class ro identifted\n",
    "title_class = 'title.style-scope.ytd-video-primary-info-renderer.style-scope.ytd-video-primary-info-renderer'\n",
    "\n",
    "# 페이지당 동영상 수집\n",
    "for i in tqdm(range(0, 5)):   # len(df['url'])\n",
    "    try:\n",
    "        options = webdriver.ChromeOptions()\n",
    "        options.add_argument(\"--start-maximized\")\n",
    "        driver = webdriver.Chrome(chrome_options=options)\n",
    "        driver.get(df['url'][i])\n",
    "\n",
    "        last_height = driver.execute_script(\"return document.body.scrollHeight\")\n",
    "\n",
    "        # Element가 로딩될 때 까지 충분히 로딩을 가진다.\n",
    "        wait = WebDriverWait(driver, 10)\n",
    "        title = wait.until(EC.element_to_be_clickable((By.CLASS_NAME, title_class))).text\n",
    "        driver.execute_script(\"window.scrollTo(0, window.scrollY + 200);\")\n",
    "        channel = driver.find_element_by_xpath('//*[@id=\"meta\"]').text.split('\\n')[0]\n",
    "        view = driver.find_element_by_xpath('//*[@id=\"count\"]/ytd-video-view-count-renderer/span[1]').text[4:-1]\n",
    "        like = driver.find_element_by_xpath('//*[@id=\"menu\"]/ytd-menu-renderer[1]').text.split('\\n')[0]\n",
    "        bad = driver.find_element_by_xpath('//*[@id=\"menu\"]/ytd-menu-renderer[1]').text.split('\\n')[1]\n",
    "        driver.execute_script(\"window.scrollTo(0, window.scrollY + 500);\")\n",
    "\n",
    "        time.sleep(3)\n",
    "        review_count = driver.find_element_by_xpath('//*[@id=\"count\"]/yt-formatted-string[1]/span[2]').text\n",
    "        driver.execute_script(\"window.scrollTo(0, window.scrollY + 1000);\")\n",
    "\n",
    "        # youtube 전용 스크롤\n",
    "        last_page_height = driver.execute_script(\"return document.documentElement.scrollHeight\")\n",
    "        count = 0\n",
    "        while True:\n",
    "            driver.execute_script(\"window.scrollTo(0, document.documentElement.scrollHeight);\")\n",
    "            time.sleep(2.0)\n",
    "            new_page_height = driver.execute_script(\"return document.documentElement.scrollHeight\")\n",
    "            count = count + 1\n",
    "            if new_page_height == last_page_height:\n",
    "                break\n",
    "            if count >= 2:\n",
    "                break\n",
    "            last_page_height = new_page_height\n",
    "\n",
    "        review_list = []\n",
    "        reviews = driver.find_elements_by_xpath('//*[@id=\"content\"]/yt-formatted-string[2]')\n",
    "        for review in reviews:    \n",
    "            review = review.text\n",
    "            review_list.append(review)\n",
    "\n",
    "        target_info = {}\n",
    "        target_info['동영상제목'] = title\n",
    "        target_info['조회수'] = view\n",
    "        target_info['채널'] = channel\n",
    "        target_info['좋아요'] = like\n",
    "        target_info['싫어요'] = bad\n",
    "        target_info['댓글 수'] = review_count\n",
    "        target_info['댓글'] = review_list\n",
    "\n",
    "        dict[i] = target_info\n",
    "        print(i, title)\n",
    "        driver.close()\n",
    "    except:\n",
    "        print(\"error raised\")\n",
    "        driver.close()"
   ]
  },
  {
   "cell_type": "code",
   "execution_count": 9,
   "metadata": {},
   "outputs": [
    {
     "data": {
      "text/html": [
       "<div>\n",
       "<style scoped>\n",
       "    .dataframe tbody tr th:only-of-type {\n",
       "        vertical-align: middle;\n",
       "    }\n",
       "\n",
       "    .dataframe tbody tr th {\n",
       "        vertical-align: top;\n",
       "    }\n",
       "\n",
       "    .dataframe thead th {\n",
       "        text-align: right;\n",
       "    }\n",
       "</style>\n",
       "<table border=\"1\" class=\"dataframe\">\n",
       "  <thead>\n",
       "    <tr style=\"text-align: right;\">\n",
       "      <th></th>\n",
       "      <th>동영상제목</th>\n",
       "      <th>조회수</th>\n",
       "      <th>채널</th>\n",
       "      <th>좋아요</th>\n",
       "      <th>싫어요</th>\n",
       "      <th>댓글 수</th>\n",
       "      <th>댓글</th>\n",
       "    </tr>\n",
       "  </thead>\n",
       "  <tbody>\n",
       "    <tr>\n",
       "      <th>0</th>\n",
       "      <td>[ᴘʟᴀʏʟɪsᴛ] 노래뭐야? 너무좋잖아 띵곡 팝송 플레이리스트 Popsong Radio</td>\n",
       "      <td>38,139</td>\n",
       "      <td>샵일삼Playlist#111</td>\n",
       "      <td>340</td>\n",
       "      <td>7</td>\n",
       "      <td>22</td>\n",
       "      <td>[# lhwook32@gmail.com\\n\\n0:01  ━───❍──────── 4...</td>\n",
       "    </tr>\n",
       "    <tr>\n",
       "      <th>1</th>\n",
       "      <td>[Playlist] 아니, 이런 노래는 어떻게 아는거야?? 너무 좋자나... | 노...</td>\n",
       "      <td>3,957,668</td>\n",
       "      <td>essential;</td>\n",
       "      <td>7.6만</td>\n",
       "      <td>786</td>\n",
       "      <td>965</td>\n",
       "      <td>[앨범소개\\n\\n내 차 타는 친구들에게 들려주고 싶은 감각적인 플레이리스트. '노래...</td>\n",
       "    </tr>\n",
       "    <tr>\n",
       "      <th>2</th>\n",
       "      <td>[𝐏𝐥𝐚𝐲𝐥𝐢𝐬𝐭] 이번 여름에 무조건 들어야하는 청량감 넘치는 아이돌 노래모음</td>\n",
       "      <td>123,024</td>\n",
       "      <td>Mean Playlist_민뮤직</td>\n",
       "      <td>1.3천</td>\n",
       "      <td>25</td>\n",
       "      <td>59</td>\n",
       "      <td>[영상이 마음에 들었으면 구독[ 💜 ] 과 좋아요[ 👍 ] 부탁드립니다~! 😊\\n\\...</td>\n",
       "    </tr>\n",
       "    <tr>\n",
       "      <th>3</th>\n",
       "      <td>[Playlist] 마음이 복잡하고 힘들 때 듣는 감성팝송 플레이리스트</td>\n",
       "      <td>8,443,431</td>\n",
       "      <td>feel it</td>\n",
       "      <td>12만</td>\n",
       "      <td>1.3천</td>\n",
       "      <td>12,085</td>\n",
       "      <td>[[Playlist]\\n\\n{35:41}, 화내면\"인성 나오네\"\\n울면\"약한척하네\"...</td>\n",
       "    </tr>\n",
       "    <tr>\n",
       "      <th>4</th>\n",
       "      <td>[playlist] 다들 봄을 즐긴다는데, 내겐 쓰기만 해 l 노래모음 광고없음</td>\n",
       "      <td>33,320</td>\n",
       "      <td>눈에띠네</td>\n",
       "      <td>좋아요</td>\n",
       "      <td>싫어요</td>\n",
       "      <td>70</td>\n",
       "      <td>[예약 건다는걸 잘못 올려버렸네 \\n사랑한다. 이번주도 화이팅 :) \\n\\nTIME...</td>\n",
       "    </tr>\n",
       "  </tbody>\n",
       "</table>\n",
       "</div>"
      ],
      "text/plain": [
       "                                               동영상제목        조회수  \\\n",
       "0  [ᴘʟᴀʏʟɪsᴛ] 노래뭐야? 너무좋잖아 띵곡 팝송 플레이리스트 Popsong Radio     38,139   \n",
       "1  [Playlist] 아니, 이런 노래는 어떻게 아는거야?? 너무 좋자나... | 노...  3,957,668   \n",
       "2       [𝐏𝐥𝐚𝐲𝐥𝐢𝐬𝐭] 이번 여름에 무조건 들어야하는 청량감 넘치는 아이돌 노래모음    123,024   \n",
       "3            [Playlist] 마음이 복잡하고 힘들 때 듣는 감성팝송 플레이리스트  8,443,431   \n",
       "4       [playlist] 다들 봄을 즐긴다는데, 내겐 쓰기만 해 l 노래모음 광고없음     33,320   \n",
       "\n",
       "                  채널   좋아요   싫어요    댓글 수  \\\n",
       "0    샵일삼Playlist#111   340     7      22   \n",
       "1         essential;  7.6만   786     965   \n",
       "2  Mean Playlist_민뮤직  1.3천    25      59   \n",
       "3            feel it   12만  1.3천  12,085   \n",
       "4               눈에띠네   좋아요   싫어요      70   \n",
       "\n",
       "                                                  댓글  \n",
       "0  [# lhwook32@gmail.com\\n\\n0:01  ━───❍──────── 4...  \n",
       "1  [앨범소개\\n\\n내 차 타는 친구들에게 들려주고 싶은 감각적인 플레이리스트. '노래...  \n",
       "2  [영상이 마음에 들었으면 구독[ 💜 ] 과 좋아요[ 👍 ] 부탁드립니다~! 😊\\n\\...  \n",
       "3  [[Playlist]\\n\\n{35:41}, 화내면\"인성 나오네\"\\n울면\"약한척하네\"...  \n",
       "4  [예약 건다는걸 잘못 올려버렸네 \\n사랑한다. 이번주도 화이팅 :) \\n\\nTIME...  "
      ]
     },
     "execution_count": 9,
     "metadata": {},
     "output_type": "execute_result"
    }
   ],
   "source": [
    "# 판다스로 만들기\n",
    "import pandas as pd\n",
    "result_df = pd.DataFrame.from_dict(dict, 'index')\n",
    "result_df\n",
    "# result_df.rename(columns={result_df.columns[0] : name}, inplace=True)"
   ]
  },
  {
   "cell_type": "code",
   "execution_count": 10,
   "metadata": {},
   "outputs": [],
   "source": [
    "# 파일로 저장\n",
    "result_df.to_excel(\"YoutubeMusic_({}).xlsx\".format(keyword))"
   ]
  },
  {
   "cell_type": "code",
   "execution_count": null,
   "metadata": {},
   "outputs": [],
   "source": []
  },
  {
   "cell_type": "code",
   "execution_count": null,
   "metadata": {},
   "outputs": [],
   "source": []
  },
  {
   "cell_type": "code",
   "execution_count": null,
   "metadata": {},
   "outputs": [],
   "source": []
  }
 ],
 "metadata": {
  "kernelspec": {
   "display_name": "Python 3",
   "language": "python",
   "name": "python3"
  },
  "language_info": {
   "codemirror_mode": {
    "name": "ipython",
    "version": 3
   },
   "file_extension": ".py",
   "mimetype": "text/x-python",
   "name": "python",
   "nbconvert_exporter": "python",
   "pygments_lexer": "ipython3",
   "version": "3.8.5"
  }
 },
 "nbformat": 4,
 "nbformat_minor": 4
}
